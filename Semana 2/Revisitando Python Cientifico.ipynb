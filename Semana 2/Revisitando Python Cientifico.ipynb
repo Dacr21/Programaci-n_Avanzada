{
 "cells": [
  {
   "cell_type": "markdown",
   "source": [
    "# Revisitando Python Cientifico\n",
    "\n",
    "<img src=\"https://cdn.lynda.com/course/550457/550457-637286206187260688-16x9.jpg\" alt=\"pyscience_intro\" style=\"width:700px;height:320px;\">\n",
    "\n",
    "Fuente: [Lynda.com](https://www.lynda.com/Python-tutorials/Data-Science-Foundations-Python-Scientific-Stack/550457-2.html)\n",
    "\n",
    "Una de las razones por las que Python es uno de los lenguajes de mayor crecimiento en la actualidad son las librerías que lo acompañan. Al ser un proyecto de código abierto, se han ido agregando librerías que potencian las capacidades especiales al lenguaje de programación. Este es el caso de las librerías NumPy, SciPy, SymPi, Matplotlib, Seaborn, Pandas y SciKitLearn, entre las principales que están consideradas como las herramientas básicas del muy actual y dinámico campo de las Ciencias de Datos (Data Science).\n",
    "\n",
    "Vamos a revisar algunos elementos de estas herramientas asi como sus aplicaciones en las ciencias e ingeniería.\n",
    "\n",
    "<div style=\"text-align: right\"> Luis A. Muñoz </div>\n",
    "\n",
    "---\n"
   ],
   "metadata": {}
  },
  {
   "cell_type": "code",
   "execution_count": 1,
   "source": [
    "import numpy as np\r\n",
    "import matplotlib.pyplot as plt\r\n",
    "%matplotlib inline"
   ],
   "outputs": [],
   "metadata": {}
  },
  {
   "cell_type": "markdown",
   "source": [
    "# Aplicación: ingeniería hidráulica"
   ],
   "metadata": {}
  },
  {
   "cell_type": "markdown",
   "source": [
    "Para suministrar un fluido en el punto D, una nueva tubería CD con un diametro de $d_2$ se conecta a una tubo existente con un diametro $d_1$ en el punto C entre los puntos A y B. La resistencia, R, al flujo en la ruta de ACD esta dado por:\n",
    "\n",
    "$$ R = \\frac{L_1-L_2 cot(\\theta)}{r_1^4} K + \\frac{L_2}{r_2^4 sen(\\theta)} K $$\n",
    "\n",
    "donde $K$ es una constante. Determine la ubicación del punto C (la distancia *s*) que minimiza la resistencia al flujo R. Defina un vector $\\theta$ con elementos en el rango 30° a 85° en tramos de 0.5°. Calcule *R/K* para cada valor de $\\theta$, muestre un gráfico de *R/K* versún $\\theta$ y localice la resistencia mínima. Obtenga el resultado numérico de este valor y utilice esto para hallar la distancia *s*.\n",
    "\n",
    "![](tuberia.png)"
   ],
   "metadata": {}
  },
  {
   "cell_type": "code",
   "execution_count": 7,
   "source": [
    "# Cálculo numérico\r\n",
    "d1, d2 = 1.75, 1.5\r\n",
    "L1, L2 = 50, 40\r\n",
    "r1, r2 = d1/2, d2/2\r\n",
    "theta = np.deg2rad(np.arange(30, 85.5, 0.5))\r\n",
    "\r\n",
    "R_K = (L1 - L2 * np.tan(theta)**-1)/(r1**4) + L2/(r2**4 * np.sin(theta))\r\n",
    "\r\n",
    "rk_min = np.min(R_K)\r\n",
    "idx_min = np.argmin(R_K)\r\n",
    "ang_min = theta[idx_min]\r\n",
    "\r\n",
    "# Gráfica\r\n",
    "line, = plt.plot(theta, R_K)\r\n",
    "plt.title(\"Analisis de flujo\")\r\n",
    "plt.xlabel(\"Angulo [rad]\")\r\n",
    "plt.ylabel(\"Resistencia\")\r\n",
    "plt.plot(ang_min, rk_min, 'ko')\r\n",
    "plt.grid()\r\n",
    "plt.show()\r\n",
    "\r\n",
    "# Impresion de resultados\r\n",
    "print(f\"Angulo minimo: {ang_min:.4f} rad ({np.rad2deg(ang_min):.1f}°)\")\r\n",
    "s = L2 / np.tan(ang_min)\r\n",
    "print(f\"Distancia del punto C (respecto a B): {s:.4f} pies\")\r\n",
    "print(f\"Distancia del punto C (respecto a A): {L1-s:.4f} pies\")"
   ],
   "outputs": [
    {
     "output_type": "display_data",
     "data": {
      "image/png": "[encoded data removed]",
      "text/plain": [
       "<Figure size 432x288 with 1 Axes>"
      ]
     },
     "metadata": {
      "needs_background": "light"
     }
    },
    {
     "output_type": "stream",
     "name": "stdout",
     "text": [
      "Angulo minimo: 1.0036 rad (57.5°)\n",
      "Distancia del punto C (respecto a B): 25.4828 pies\n",
      "Distancia del punto C (respecto a A): 24.5172 pies\n"
     ]
    }
   ],
   "metadata": {}
  },
  {
   "cell_type": "markdown",
   "source": [
    "## Aplicación: cálculo numérico\n",
    "La conjetura de Goldbach es uno de los problemas abiertos más famoso de las matemáticas. Establece que todo número par mayor que 2 puede ser expresado como las suma de dos números primos. Aunque la afirmación no esta demostrada (y por eso es una conjetura), se han confirmado utilizando computaodras que esto es válido hasta un número de 18 cifras.\n",
    "\n",
    "Utilizando la conjetura, se puede definir la función G(n), donde n es el número del que se quiere verificar la conjetura y G(n) es el número de combinaciones donde esta se cumple. Por ejemplo, para n = 12, se tiene que 12 = 5 + 7, por lo que G(12) = 1. Sin embargo, para 14 se tiene que 14 = 3 + 11 y 7 + 7, por lo que G(14) = 2.\n",
    "\n",
    "Vamos a calcular G(n) para n hasta 10,000 para luego gráficar G(n) versus n (y vamos a incluír la barra de progreso en Jupyter de la librería `tqdm`, la función `notebook.tqdm()`.\n",
    "\n",
    "**Pruebe este ejemplo en Jupyter Notebook por el soporte de widgets**."
   ],
   "metadata": {}
  },
  {
   "cell_type": "code",
   "execution_count": 8,
   "source": [
    "from tqdm import tqdm, notebook\r\n",
    "\r\n",
    "primos = []\r\n",
    "\r\n",
    "def es_primo(n):\r\n",
    "    global primos\r\n",
    "    if n in primos: return True\r\n",
    "    if n < 2: return False\r\n",
    "    if n == 2: return True\r\n",
    "    if n % 2 == 0: return False    \r\n",
    "    div = np.arange(3, n//2 + 1, 2)\r\n",
    "    \r\n",
    "    if all(n % div):\r\n",
    "        primos.append(n)\r\n",
    "        return True\r\n",
    "\r\n",
    "\r\n",
    "# Calculo de los resultaddos de la función G(n)\r\n",
    "rango = list(range(4, 2000, 2))\r\n",
    "G = np.empty(len(rango))\r\n",
    "idx = 0\r\n",
    "\r\n",
    "for n in tqdm(rango):\r\n",
    "    cont = 0\r\n",
    "    for p in range(2, n//2):\r\n",
    "        if es_primo(p) and es_primo(n-p):\r\n",
    "            cont += 1\r\n",
    "    else:\r\n",
    "        G[idx] = cont\r\n",
    "        idx += 1"
   ],
   "outputs": [
    {
     "output_type": "stream",
     "name": "stderr",
     "text": [
      "100%|██████████| 998/998 [00:03<00:00, 329.56it/s]\n"
     ]
    }
   ],
   "metadata": {}
  },
  {
   "cell_type": "code",
   "execution_count": null,
   "source": [
    "plt.figure(figsize=(10, 6))\r\n",
    "plt.plot(rango, G, 'o', color='r', markersize=1)\r\n",
    "plt.title(\"Cometa de Goldbach\")\r\n",
    "plt.show()"
   ],
   "outputs": [],
   "metadata": {}
  },
  {
   "cell_type": "markdown",
   "source": [
    "## Aplicación: ingeniería eléctrica\n",
    "En un circuito RLC serie con una fuente de voltaje AC, la amplitud de la corriente I esta dada por:\n",
    "\n",
    "$$I =\\frac{v_m}{\\sqrt{R^2+ (\\omega_dL - 1/(\\omega_dC))^2}}$$\n",
    "\n",
    "donde $\\omega_d = 2 \\pi f_d$, en el que $fd$ es la frecuencia de la fuente; R, C y L son la resistencia, la capacitancia y la inductancia, respectivamente; y $v_m$ es la amplitud de V. Para el circuito se tienen los siguientes valores:\n",
    "\n",
    "R = 80 ohm, C = 18 uF, L = 260 mH y $v_m$ = 10 V\n",
    "\n",
    "Muestre un gráfico de *I* en función de $f_d$ para $10 \\le f \\le 10000 Hz$. Use escala lineal para I y escala logarítmica para $f_d$"
   ],
   "metadata": {}
  },
  {
   "cell_type": "code",
   "execution_count": null,
   "source": [
    "import numpy as np\r\n",
    "import matplotlib.pyplot as plt\r\n",
    "\r\n",
    "R = 80\r\n",
    "C = 18e-6\r\n",
    "L = 260e-3\r\n",
    "vm = 10\r\n",
    "\r\n",
    "fd = np.arange(10, 100000)\r\n",
    "wd = 2 * np.pi * fd\r\n",
    "\r\n",
    "I = vm / np.sqrt(R**2 + (wd * L - 1/(wd * C))**2)\r\n",
    "\r\n",
    "plt.figure(figsize=(8, 6))\r\n",
    "plt.semilogx(wd, I, color='magenta')\r\n",
    "plt.title(\"Corriente en un circuito RLC Serie\")\r\n",
    "plt.xlabel(\"Frecuencia [Hz]\")\r\n",
    "plt.ylabel(\"Corriente [A]\")\r\n",
    "plt.grid(linestyle='dashed', which='both')\r\n",
    "plt.show()"
   ],
   "outputs": [],
   "metadata": {}
  },
  {
   "cell_type": "markdown",
   "source": [
    "## Uso de matplotlib con objetos graficos (fig, ax)\n",
    "![](https://files.realpython.com/media/fig_map.bc8c7cabd823.png)\n",
    "\n",
    "Cuando se llama a las instrucciones graficas, como `plt.title()` lo que realmente sucede tras la cortina es la inspección del gráfico (llamado _axes_) para llamar a un setter llamado `set_title`. Esta es la forma de interactuar con la librería gráfica directamente con los objetos gráficos. Esto suele ser más complejo, pero se tiene un control más fino de las propiedades de un gráfico"
   ],
   "metadata": {}
  },
  {
   "cell_type": "code",
   "execution_count": null,
   "source": [
    "f = 5\r\n",
    "t = np.linspace(0, 1, f * 50)\r\n",
    "y = np.cos(2 * np.pi * f * t)\r\n",
    "\r\n",
    "fig, ax = plt.subplots(figsize=(6, 5))  # Retorna una Figura y Un Axis\r\n",
    "fig.set_facecolor('blue')\r\n",
    "\r\n",
    "ax.plot(y, color='green', linewidth=4)\r\n",
    "ax.set_title(\"Osciloscopio\", color='white', fontsize=16)\r\n",
    "ax.set_facecolor('#072d0d')\r\n",
    "ax.set_xticklabels([\"\"])\r\n",
    "ax.set_yticklabels([\"\"])\r\n",
    "ax.grid(True, linestyle='--')"
   ],
   "outputs": [],
   "metadata": {}
  },
  {
   "cell_type": "code",
   "execution_count": null,
   "source": [
    "f = 5\r\n",
    "t = np.linspace(0, 1, f * 50)\r\n",
    "y1 = np.cos(2 * np.pi * f * t)\r\n",
    "y2 = y1 * np.exp(-2 * t)\r\n",
    "\r\n",
    "# Retorna una Figura y dos axis\r\n",
    "fig, (ax1, ax2) = plt.subplots(figsize=(6, 4), nrows=2, ncols=1)\r\n",
    "\r\n",
    "line1, = ax1.plot(t, y1); ax1.set_title(\"Cos(t)\"); ax1.grid()\r\n",
    "line2, = ax2.plot(t, y2); ax2.set_title(\"Cos(t) exp(-2t)\"); ax2.grid(linestyle='dashed')\r\n",
    "\r\n",
    "# Control de los ejes coordenados (spines)\r\n",
    "ax1.spines['top'].set_visible(False)\r\n",
    "ax1.spines['right'].set_visible(False)\r\n",
    "\r\n",
    "ax2.spines['top'].set_visible(False)\r\n",
    "ax2.spines['right'].set_visible(False)\r\n",
    "ax2.spines['bottom'].set_position(('data', 0))\r\n",
    "ax2.spines['left'].set_position(('data', 0))\r\n",
    "ax2.spines['bottom'].set_color('red')\r\n",
    "ax2.spines['left'].set_color('red')\r\n",
    "\r\n",
    "ax2.set_ylim(-1, 1)\r\n",
    "\r\n",
    "plt.tight_layout()\r\n",
    "plt.show()"
   ],
   "outputs": [],
   "metadata": {}
  },
  {
   "cell_type": "markdown",
   "source": [
    "## Aplicación: Procesamiento Digital de Señales\n",
    "Se quiere generar un tono senoidal de 440Hz de 3 segundos de duración, utilizando una tasa de muestreo de 8kHz (número de muestras por segundo)."
   ],
   "metadata": {}
  },
  {
   "cell_type": "code",
   "execution_count": null,
   "source": [
    "ff = 440      # frecuencia de la señal\r\n",
    "fm = 8000     # muestras por segundo\r\n",
    "tm = 1 / fm   # Periodo de muestreo\r\n",
    "t = 3        # Duracion de la señal a muestrear\r\n",
    "\r\n",
    "#t_vec = np.linspace(0, t, t * fm)\r\n",
    "t_vec = np.arange(0, t, tm)\r\n",
    "y = np.sin(2 * np.pi * ff * t_vec).astype(np.float32)\r\n",
    "\r\n",
    "fig, ax = plt.subplots(1, figsize=(6, 3))\r\n",
    "ax.plot(t_vec, y, '-o', markerfacecolor='r', markersize=5)\r\n",
    "ax.set_ylim(-1, 1)\r\n",
    "ax.set_xlim(0, 1/ff)\r\n",
    "plt.title(f\"Periodo de una señal digital de {ff} Hz\")\r\n",
    "plt.ylabel(\"Amplitud\")\r\n",
    "plt.xlabel(\"Tiempo [seg]\")\r\n",
    "plt.grid()\r\n",
    "plt.show()"
   ],
   "outputs": [],
   "metadata": {}
  },
  {
   "cell_type": "markdown",
   "source": [
    "Para reproducir la muestra generada es necesario instalar pyAudio:\n",
    "\n",
    "    conda install -c anaconda pyaudio"
   ],
   "metadata": {}
  },
  {
   "cell_type": "code",
   "execution_count": null,
   "source": [
    "import pyaudio"
   ],
   "outputs": [],
   "metadata": {}
  },
  {
   "cell_type": "code",
   "execution_count": null,
   "source": [
    "# Se reproduce la señal digital\r\n",
    "def play_audio(audio_sample, rate=44100):\r\n",
    "    import pyaudio\r\n",
    "    p = pyaudio.PyAudio()\r\n",
    "\r\n",
    "    stream = p.open(format=pyaudio.paFloat32, channels=1, rate=rate, output=True)\r\n",
    "    stream.write(audio_sample.tobytes())\r\n",
    "    stream.close()\r\n",
    "    p.terminate()"
   ],
   "outputs": [],
   "metadata": {}
  },
  {
   "cell_type": "code",
   "execution_count": null,
   "source": [
    "play_audio(y, rate=8000)"
   ],
   "outputs": [],
   "metadata": {}
  },
  {
   "cell_type": "markdown",
   "source": [
    "## Ejemplo de aplicación: Generación de tonos DTMF\n",
    "![](https://elastixtech.com/wp-content/uploads/2013/01/Elastix-DTMF_02.gif?x84371)"
   ],
   "metadata": {}
  },
  {
   "cell_type": "code",
   "execution_count": null,
   "source": [
    "def tone(freq, sample_rate=44100, time_dur=1, amplitude=1):\r\n",
    "    t_vec = np.arange(0, time_dur, 1/sample_rate)\r\n",
    "    return amplitude * np.sin(2 * np.pi * freq * t_vec).astype(np.float32)\r\n",
    "    \r\n",
    "def dtmf_tone(number, rate, time_dur):\r\n",
    "        dtmf_freqs = {'1': (1209, 697), '2': (1336, 697), '3': (1477, 697), \r\n",
    "                      '4': (1209, 770), '5': (1336, 770), '6': (1477, 770), \r\n",
    "                      '7': (1209, 852), '8': (1336, 852), '9': (1477, 852), \r\n",
    "                      '*': (1209, 941), '0': (1336, 941), '#': (1477, 941),}\r\n",
    "        \r\n",
    "        if dtmf_freqs.get(number, False):\r\n",
    "            freq1, freq2 = dtmf_freqs[number]\r\n",
    "            return (tone(freq1, rate, time_dur) + tone(freq2, rate, time_dur)) / 2\r\n",
    "\r\n",
    "def send_dtmf(number):\r\n",
    "    from time import sleep\r\n",
    "    \r\n",
    "    for digit in number:\r\n",
    "        if digit == ',':\r\n",
    "            sleep(1)\r\n",
    "        else:\r\n",
    "            tone = dtmf_tone(digit, rate=8000, time_dur=0.5)\r\n",
    "            play_audio(tone, rate=8000)"
   ],
   "outputs": [],
   "metadata": {}
  },
  {
   "cell_type": "code",
   "execution_count": null,
   "source": [
    "send_dtmf('0800')"
   ],
   "outputs": [],
   "metadata": {}
  },
  {
   "cell_type": "markdown",
   "source": [
    "## Generación de notas musicales\n",
    "Las notas musicales tienen una relación matemática de proporcionalidad respecto a una nota de referencia. Por convención la nota de afinación es la nota LA (440 Hz) de sistema latino o A5 del sistema americano. En función de esta notas, las frecuencias de las demás notas están definidas por:\n",
    "\n",
    "$$ F_n = F_{LA} (\\sqrt[12]{2})^d  $$\n",
    "\n",
    "donde $d$ es la distancia en semitonos respecto a la nota de afinación. Por ejemplo, la nota C de la siguiente escala (a la derecha) sera:\n",
    "\n",
    "$$ C5 = 440 * (\\sqrt[12]{2})^2 = 523.25 $$\n",
    "\n",
    "Es decir, lo que se requiere saber es cuantas posiciones se encuentra desplazada una nota en el teclado respecto a la nota de afinación (positivo a la derecha, negativo a la izquierda).\n",
    "\n",
    "![](https://2.bp.blogspot.com/-0GhX4W7k11k/ULy3bipyBII/AAAAAAAAAAc/mOVXaU7b4YM/s1600/keyboard+notes+.gif)"
   ],
   "metadata": {}
  },
  {
   "cell_type": "code",
   "execution_count": null,
   "source": [
    "def nota_freq(letter='A5'):\r\n",
    "    notes = ['A0', 'A0b', 'B0', 'C0', 'C0b', 'D0', 'D0b', 'E0', 'F0', 'F0b', 'G0', 'G0b', \r\n",
    "             'A1', 'A1b', 'B1', 'C1', 'C1b', 'D1', 'D1b', 'E1', 'F1', 'F1b', 'G1', 'G1b', \r\n",
    "             'A2', 'A2b', 'B2', 'C2', 'C2b', 'D2', 'D2b', 'E2', 'F2', 'F2b', 'G2', 'G2b', \r\n",
    "             'A3', 'A3b', 'B3', 'C3', 'C3b', 'D3', 'D3b', 'E3', 'F3', 'F3b', 'G3', 'G3b', \r\n",
    "             'A4', 'A4b', 'B4', 'C4', 'C4b', 'D4', 'D4b', 'E4', 'F4', 'F4b', 'G4', 'G4b', \r\n",
    "             'A5', 'A5b', 'B5', 'C5', 'C5b', 'D5', 'D5b', 'E5', 'F5', 'F5b', 'G5', 'G5b', \r\n",
    "             'A6', 'A6b', 'B6', 'C6', 'C6b', 'D6', 'D6b', 'E6', 'F6', 'F6b', 'G6', 'G6b', \r\n",
    "             'A7', 'A7b', 'B7', 'C7', 'C7b', 'D7', 'D7b', 'E7', 'F7', 'F7b', 'G7', 'G7b',\r\n",
    "             'A8', 'A8b', 'B8', 'C8', 'C8b', 'D8', 'D8b', 'E8', 'F8', 'F8b', 'G8', 'G8b']\r\n",
    "    \r\n",
    "    if letter in notes:\r\n",
    "        r = notes.index(letter) - 48\r\n",
    "        return 440 * (2 ** (1/12)) ** r\r\n",
    "    elif letter == 'P':\r\n",
    "        return 0\r\n",
    "    else:\r\n",
    "        return None"
   ],
   "outputs": [],
   "metadata": {}
  },
  {
   "cell_type": "code",
   "execution_count": null,
   "source": [
    "# Escala musical\r\n",
    "escala = int(input(\"Ingrese la escala [0-7]: \"))\r\n",
    "\r\n",
    "for letter in ['A', 'B', 'C', 'D', 'E', 'F', 'G']:\r\n",
    "    y = tone(nota_freq(letter + str(escala)), time_dur=0.5)\r\n",
    "    play_audio(y)"
   ],
   "outputs": [],
   "metadata": {}
  },
  {
   "cell_type": "code",
   "execution_count": null,
   "source": [
    "# Mario Sound!!!\r\n",
    "music = [('E4', 0.25), ('E4', 0.25), ('E4', 0.35), ('C4', 0.35), \r\n",
    "         ('E4', 0.35), ('G4',0.35), ('P', 0.5), ('G3', 0.5)]\r\n",
    "\r\n",
    "for music_note in music:\r\n",
    "    letter, time = music_note\r\n",
    "    sound = tone(nota_freq(letter), time_dur=time)\r\n",
    "    play_audio(sound)"
   ],
   "outputs": [],
   "metadata": {}
  },
  {
   "cell_type": "markdown",
   "source": [
    "## Audio en tiempo real"
   ],
   "metadata": {}
  },
  {
   "cell_type": "code",
   "execution_count": 14,
   "source": [
    "import numpy as np\r\n",
    "import matplotlib.pyplot as plt\r\n",
    "import pyaudio\r\n",
    "from tkinter import TclError\r\n",
    "import wave\r\n",
    "%matplotlib tk\r\n",
    "\r\n",
    "CHUNK = 1024                # Buffer de 1Kb\r\n",
    "FORMAT = pyaudio.paInt16     # 1Kb muestras de 16 bits\r\n",
    "CHANNELS = 1                 # Audio Mono\r\n",
    "RATE = 44100                 # Tasa de muestreo: 44100 muestras por segundo (de 16 bits)\r\n",
    "MAX_AMPLITUDE = 2**16 - 1\r\n",
    "FILENAME = \"recording.wav\"\r\n",
    "\r\n",
    "\r\n",
    "p = pyaudio.PyAudio()\r\n",
    "\r\n",
    "stream = p.open(format=FORMAT,\r\n",
    "               channels=CHANNELS,\r\n",
    "               rate=RATE,\r\n",
    "               input=True,\r\n",
    "               output=False,\r\n",
    "               frames_per_buffer=CHUNK)\r\n",
    "\r\n",
    "fig, ax = plt.subplots()\r\n",
    "\r\n",
    "# Gráfico base\r\n",
    "x = np.arange(0, CHUNK)\r\n",
    "line, = ax.plot(x, np.random.normal(0, 0.1, CHUNK))\r\n",
    "ax.set_ylim(-MAX_AMPLITUDE, MAX_AMPLITUDE)\r\n",
    "ax.set_xlim(0, CHUNK)\r\n",
    "ax.set_title(f\"Audio en tiempo real fm={RATE:,}Hz\")\r\n",
    "ax.grid()\r\n",
    "\r\n",
    "frames = []\r\n",
    "stream.start_stream()\r\n",
    "\r\n",
    "while True:\r\n",
    "    try:\r\n",
    "        # Lee un CHUNK de datos\r\n",
    "        audio_in = stream.read(CHUNK)\r\n",
    "        data_in = np.frombuffer(stream.read(CHUNK), dtype=np.int16)\r\n",
    "        frames.append(audio_in)\r\n",
    "\r\n",
    "        line.set_ydata(data_in)\r\n",
    "        fig.canvas.draw()\r\n",
    "        fig.canvas.flush_events()\r\n",
    "   \r\n",
    "    except TclError:\r\n",
    "        stream.stop_stream()\r\n",
    "        stream.close()\r\n",
    "        p.terminate()\r\n",
    "        break\r\n",
    "\r\n",
    "print(f\"Guardando audio en {FILENAME}...\")\r\n",
    "\r\n",
    "wf = wave.open(FILENAME, 'wb')\r\n",
    "wf.setnchannels(CHANNELS)\r\n",
    "wf.setsampwidth(p.get_sample_size(FORMAT))\r\n",
    "wf.setframerate(RATE)\r\n",
    "wf.writeframes(b\"\".join(frames))\r\n",
    "wf.close()"
   ],
   "outputs": [
    {
     "output_type": "stream",
     "name": "stdout",
     "text": [
      "Guardando audio en recording.wav...\n"
     ]
    }
   ],
   "metadata": {}
  }
 ],
 "metadata": {
  "kernelspec": {
   "name": "python3",
   "display_name": "Python 3.8.11 64-bit ('base': conda)"
  },
  "language_info": {
   "codemirror_mode": {
    "name": "ipython",
    "version": 3
   },
   "file_extension": ".py",
   "mimetype": "text/x-python",
   "name": "python",
   "nbconvert_exporter": "python",
   "pygments_lexer": "ipython3",
   "version": "3.8.11"
  },
  "interpreter": {
   "hash": "811cb2d80e963cb95904e9dfbacd5be08e91baa61408b7d80cc4092ca2865467"
  }
 },
 "nbformat": 4,
 "nbformat_minor": 4
}