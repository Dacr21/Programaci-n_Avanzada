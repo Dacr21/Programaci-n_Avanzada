{
 "cells": [
  {
   "cell_type": "code",
   "execution_count": 3,
   "id": "0d625cf3",
   "metadata": {},
   "outputs": [
    {
     "data": {
      "application/vnd.jupyter.widget-view+json": {
       "model_id": "62b70ae008424612918f9eac7f78b0a7",
       "version_major": 2,
       "version_minor": 0
      },
      "text/plain": [
       "HBox(children=(VBox(children=(HBox(children=(FloatSlider(value=1.0, description='Radio:', max=12.0, min=1.0), …"
      ]
     },
     "metadata": {},
     "output_type": "display_data"
    }
   ],
   "source": [
    "import numpy as np\n",
    "import matplotlib.pyplot as plt\n",
    "from ipywidgets import widgets\n",
    "from IPython.display import display\n",
    "\n",
    "# Funcion que sera llamada de forma interactiva\n",
    "def plot_circle(r, color, grid, line_style):\n",
    "    x = r * np.cos(np.linspace(0, 2*np.pi, 100))\n",
    "    y = r * np.sin(np.linspace(0, 2*np.pi, 100))\n",
    "    plt.plot(x, y, color=color, linestyle=line_style)\n",
    "    plt.axis('square')\n",
    "    plt.grid(grid)\n",
    "    plt.xlim(-12, 12)\n",
    "    plt.ylim(-12, 12)\n",
    "    plt.show()\n",
    "    \n",
    "# Definicion de widgets\n",
    "w1 = widgets.FloatSlider(description=\"Radio:\", min=1, max=12)  \n",
    "w2 = widgets.Dropdown(description=\"Color\", options={'Azul': 'blue', 'Rojo': 'red', 'Verde': 'green'})\n",
    "w3 = widgets.Checkbox(description=\"Grilla?\")\n",
    "w4 = widgets.RadioButtons(description=\"Linea\", options=[\"-\", \"--\", \"-.\", \":\"])\n",
    "\n",
    "control = widgets.interactive_output(plot_circle, {'r':w1,'color':w2,'grid':w3,'line_style':w4})\n",
    "\n",
    "box1 = widgets.HBox([w1,w2])\n",
    "box2 = widgets.HBox([w3,w4])\n",
    "gui = widgets.VBox([box1,box2])\n",
    "layout = widgets.HBox([gui, control])\n",
    "\n",
    "display(layout)"
   ]
  }
 ],
 "metadata": {
  "kernelspec": {
   "display_name": "Python 3 (ipykernel)",
   "language": "python",
   "name": "python3"
  },
  "language_info": {
   "codemirror_mode": {
    "name": "ipython",
    "version": 3
   },
   "file_extension": ".py",
   "mimetype": "text/x-python",
   "name": "python",
   "nbconvert_exporter": "python",
   "pygments_lexer": "ipython3",
   "version": "3.8.11"
  }
 },
 "nbformat": 4,
 "nbformat_minor": 5
}
