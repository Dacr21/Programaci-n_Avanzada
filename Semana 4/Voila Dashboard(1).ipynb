{
 "cells": [
  {
   "cell_type": "markdown",
   "source": [
    "# Dashboard interactivo con Voila"
   ],
   "metadata": {}
  },
  {
   "cell_type": "code",
   "execution_count": 3,
   "source": [
    "import numpy as np\n",
    "import matplotlib.pyplot as plt\n",
    "from ipywidgets import *\n",
    "from IPython.display import display\n",
    "\n",
    "# Funcion que sera llamada de forma interactiva\n",
    "def plot_circle(r, color, grid, line_style):\n",
    "    x = r * np.cos(np.linspace(0, 2*np.pi, 100))\n",
    "    y = r * np.sin(np.linspace(0, 2*np.pi, 100))\n",
    "    plt.plot(x, y, color=color, linestyle=line_style)\n",
    "    plt.axis('square')\n",
    "    plt.grid(grid)\n",
    "    plt.xlim(-12, 12)\n",
    "    plt.ylim(-12, 12)\n",
    "    plt.show()\n",
    "    \n",
    "# Definicion de widgets\n",
    "w1 = FloatSlider(description=\"Radio:\", min=1, max=12)  \n",
    "w2 = Dropdown(description=\"Color\", options={'Azul': 'blue', 'Rojo': 'red', 'Verde': 'green'})\n",
    "w3 = Checkbox(description=\"Grilla?\")\n",
    "w4 = RadioButtons(description=\"Linea\", options=[\"-\", \"--\", \"-.\", \":\"])\n",
    "\n",
    "# Organizacion de widgets en HBOx y VBox\n",
    "box1 = HBox([w1, w2])\n",
    "box2 = HBox([w3, w4]) \n",
    "layout = VBox([box1, box2])\n",
    "\n",
    "# Definicion de los controles (interactive)\n",
    "controls = interactive(plot_circle, r=w1, color=w2, grid=w3, line_style=w4, continuous_update=False)\n",
    "\n",
    "# El ultimo elemento de interactive tiene el resultado de los widgets (el llamado a la función)\n",
    "output = controls.children[-1]\n",
    "\n",
    "# Asignamos un valor inicial a un widget para que llame a la función\n",
    "w1.value=6\n",
    "\n",
    "# Se muestra el ambiente interactivo\n",
    "display(HBox([layout, output]))"
   ],
   "outputs": [
    {
     "output_type": "display_data",
     "data": {
      "application/vnd.jupyter.widget-view+json": {
       "model_id": "be05b493c6304dff8c094c7094b891a2",
       "version_major": 2,
       "version_minor": 0
      },
      "text/plain": [
       "HBox(children=(VBox(children=(HBox(children=(FloatSlider(value=6.0, description='Radio:', max=12.0, min=1.0), …"
      ]
     },
     "metadata": {}
    }
   ],
   "metadata": {}
  },
  {
   "cell_type": "code",
   "execution_count": 2,
   "source": [
    "from ipywidgets import IntSlider\n",
    "from IPython.display import display"
   ],
   "outputs": [],
   "metadata": {}
  },
  {
   "cell_type": "code",
   "execution_count": 8,
   "source": [
    "slider = IntSlider(min = 10, max=50, step=2)\n",
    "display(slider)"
   ],
   "outputs": [
    {
     "output_type": "display_data",
     "data": {
      "application/vnd.jupyter.widget-view+json": {
       "model_id": "cdf917c411374c6dab032ff29d72b938",
       "version_major": 2,
       "version_minor": 0
      },
      "text/plain": [
       "IntSlider(value=10, max=50, min=10, step=2)"
      ]
     },
     "metadata": {}
    }
   ],
   "metadata": {}
  },
  {
   "cell_type": "code",
   "execution_count": 9,
   "source": [
    "slider.value"
   ],
   "outputs": [
    {
     "output_type": "execute_result",
     "data": {
      "text/plain": [
       "10"
      ]
     },
     "metadata": {},
     "execution_count": 9
    }
   ],
   "metadata": {}
  },
  {
   "cell_type": "code",
   "execution_count": 11,
   "source": [
    "slider.value = 40"
   ],
   "outputs": [],
   "metadata": {}
  },
  {
   "cell_type": "code",
   "execution_count": 16,
   "source": [
    "from ipywidgets import interact"
   ],
   "outputs": [],
   "metadata": {}
  },
  {
   "cell_type": "code",
   "execution_count": 14,
   "source": [
    "def suma(a,b):\n",
    "    print(f\"{a} + {b} = {a+b}\")"
   ],
   "outputs": [],
   "metadata": {}
  },
  {
   "cell_type": "code",
   "execution_count": 17,
   "source": [
    "gui = interact(suma,a=(1, 10) ,b=(1,10))\n",
    "display(gui)"
   ],
   "outputs": [
    {
     "output_type": "display_data",
     "data": {
      "application/vnd.jupyter.widget-view+json": {
       "model_id": "3a0e1260132e4759acbcae5d5931dd8d",
       "version_major": 2,
       "version_minor": 0
      },
      "text/plain": [
       "interactive(children=(IntSlider(value=5, description='a', max=10, min=1), IntSlider(value=5, description='b', …"
      ]
     },
     "metadata": {}
    },
    {
     "output_type": "display_data",
     "data": {
      "text/plain": [
       "<function __main__.suma(a, b)>"
      ]
     },
     "metadata": {}
    }
   ],
   "metadata": {}
  },
  {
   "cell_type": "code",
   "execution_count": 19,
   "source": [
    "@interact(a=(1, 10) ,b=[1,2,3,4,5])\n",
    "def suma(a,b):\n",
    "    print(f\"{a} + {b} = {a+b}\")"
   ],
   "outputs": [
    {
     "output_type": "display_data",
     "data": {
      "application/vnd.jupyter.widget-view+json": {
       "model_id": "d67d81017de746638dcf571968da210d",
       "version_major": 2,
       "version_minor": 0
      },
      "text/plain": [
       "interactive(children=(IntSlider(value=5, description='a', max=10, min=1), Dropdown(description='b', options=(1…"
      ]
     },
     "metadata": {}
    }
   ],
   "metadata": {}
  },
  {
   "cell_type": "code",
   "execution_count": 26,
   "source": [
    "import numpy as np\n",
    "import matplotlib.pyplot as plt\n",
    "\n",
    "@interact(a = (1,20), f=(1,20))\n",
    "def plot_sine(a,f):\n",
    "    t = np.linspace(0,1,f*50)\n",
    "    plt.plot(a*np.sin(2*np.pi*f*t))\n",
    "    plt.show()"
   ],
   "outputs": [
    {
     "output_type": "display_data",
     "data": {
      "application/vnd.jupyter.widget-view+json": {
       "model_id": "c9c7285425db4ae2a4292149dd2e269d",
       "version_major": 2,
       "version_minor": 0
      },
      "text/plain": [
       "interactive(children=(IntSlider(value=10, description='a', max=20, min=1), IntSlider(value=10, description='f'…"
      ]
     },
     "metadata": {}
    }
   ],
   "metadata": {}
  },
  {
   "cell_type": "code",
   "execution_count": 4,
   "source": [
    "from ipywidgets import *"
   ],
   "outputs": [],
   "metadata": {}
  },
  {
   "cell_type": "code",
   "execution_count": 5,
   "source": [
    "txt = Text(description = \"Texto\")\r\n",
    "btn = Button(description = \"Click\")\r\n",
    "\r\n",
    "layout = HBox([txt,btn])\r\n",
    "display(layout)\r\n",
    "\r\n",
    "def imprimir(event):\r\n",
    "    print(txt.value)\r\n",
    "\r\n",
    "btn.on_click(imprimir)"
   ],
   "outputs": [
    {
     "output_type": "display_data",
     "data": {
      "application/vnd.jupyter.widget-view+json": {
       "model_id": "85efcecec71f440da6340ab09474c530",
       "version_major": 2,
       "version_minor": 0
      },
      "text/plain": [
       "HBox(children=(Text(value='', description='Texto'), Button(description='Click', style=ButtonStyle())))"
      ]
     },
     "metadata": {}
    },
    {
     "output_type": "stream",
     "name": "stdout",
     "text": [
      "hola\n",
      "hola\n"
     ]
    }
   ],
   "metadata": {}
  },
  {
   "cell_type": "code",
   "execution_count": 6,
   "source": [
    "w1 = Text(description = \"Texto\")\r\n",
    "w2 = Dropdown(description = \"Nombres\", options = ['Hola', 'Como','Estas'])\r\n",
    "\r\n",
    "layout = HBox([w1,w2])\r\n",
    "display(layout)\r\n",
    "\r\n",
    "def imprimir(event):\r\n",
    "    print(event)\r\n",
    "\r\n",
    "w2.observe(imprimir)"
   ],
   "outputs": [
    {
     "output_type": "display_data",
     "data": {
      "application/vnd.jupyter.widget-view+json": {
       "model_id": "bc068b85f3b7440a8c6cd306eb6dd4ca",
       "version_major": 2,
       "version_minor": 0
      },
      "text/plain": [
       "HBox(children=(Text(value='', description='Texto'), Dropdown(description='Nombres', options=('Hola', 'Como', '…"
      ]
     },
     "metadata": {}
    },
    {
     "output_type": "stream",
     "name": "stdout",
     "text": [
      "{'name': '_property_lock', 'old': traitlets.Undefined, 'new': {'index': 2}, 'owner': Dropdown(description='Nombres', options=('Hola', 'Como', 'Estas'), value='Hola'), 'type': 'change'}\n",
      "{'name': 'label', 'old': 'Hola', 'new': 'Estas', 'owner': Dropdown(description='Nombres', index=2, options=('Hola', 'Como', 'Estas'), value='Hola'), 'type': 'change'}\n",
      "{'name': 'value', 'old': 'Hola', 'new': 'Estas', 'owner': Dropdown(description='Nombres', index=2, options=('Hola', 'Como', 'Estas'), value='Estas'), 'type': 'change'}\n",
      "{'name': 'index', 'old': 0, 'new': 2, 'owner': Dropdown(description='Nombres', index=2, options=('Hola', 'Como', 'Estas'), value='Estas'), 'type': 'change'}\n",
      "{'name': '_property_lock', 'old': {'index': 2}, 'new': {}, 'owner': Dropdown(description='Nombres', index=2, options=('Hola', 'Como', 'Estas'), value='Estas'), 'type': 'change'}\n"
     ]
    }
   ],
   "metadata": {}
  },
  {
   "cell_type": "code",
   "execution_count": 15,
   "source": [
    "import numpy as np\r\n",
    "import matplotlib.pyplot as plt\r\n",
    "from ipywidgets import *\r\n",
    "from IPython.display import display\r\n",
    "\r\n",
    "# Funcion que sera llamada de forma interactiva\r\n",
    "def plot_circle(r, color, grid, line_style):\r\n",
    "    x = r * np.cos(np.linspace(0, 2*np.pi, 100))\r\n",
    "    y = r * np.sin(np.linspace(0, 2*np.pi, 100))\r\n",
    "    plt.plot(x, y, color=color, linestyle=line_style)\r\n",
    "    plt.axis('square')\r\n",
    "    plt.grid(grid)\r\n",
    "    plt.xlim(-12, 12)\r\n",
    "    plt.ylim(-12, 12)\r\n",
    "    plt.show()\r\n",
    "    \r\n",
    "# Definicion de widgets\r\n",
    "w1 = FloatSlider(description=\"Radio:\", min=1, max=12)  \r\n",
    "w2 = Dropdown(description=\"Color\", options={'Azul': 'blue', 'Rojo': 'red', 'Verde': 'green'})\r\n",
    "w3 = Checkbox(description=\"Grilla?\")\r\n",
    "w4 = RadioButtons(description=\"Linea\", options=[\"-\", \"--\", \"-.\", \":\"])\r\n",
    "\r\n",
    "control = interactive_output(plot_circle, {'r':w1,'color':w2,'grid':w3,'line_style':w4})\r\n",
    "\r\n",
    "box1 = HBox([w1,w2])\r\n",
    "box2 = HBox([w3,w4])\r\n",
    "gui = VBox([box1,box2])\r\n",
    "layout = HBox([gui, control])\r\n",
    "\r\n",
    "display(layout)\r\n"
   ],
   "outputs": [
    {
     "output_type": "display_data",
     "data": {
      "application/vnd.jupyter.widget-view+json": {
       "model_id": "486366759a5d4e57a5c52492a87fac53",
       "version_major": 2,
       "version_minor": 0
      },
      "text/plain": [
       "HBox(children=(VBox(children=(HBox(children=(FloatSlider(value=1.0, description='Radio:', max=12.0, min=1.0), …"
      ]
     },
     "metadata": {}
    }
   ],
   "metadata": {}
  }
 ],
 "metadata": {
  "interpreter": {
   "hash": "811cb2d80e963cb95904e9dfbacd5be08e91baa61408b7d80cc4092ca2865467"
  },
  "kernelspec": {
   "name": "python3",
   "display_name": "Python 3.8.11 64-bit ('base': conda)"
  },
  "language_info": {
   "codemirror_mode": {
    "name": "ipython",
    "version": 3
   },
   "file_extension": ".py",
   "mimetype": "text/x-python",
   "name": "python",
   "nbconvert_exporter": "python",
   "pygments_lexer": "ipython3",
   "version": "3.8.11"
  }
 },
 "nbformat": 4,
 "nbformat_minor": 4
}