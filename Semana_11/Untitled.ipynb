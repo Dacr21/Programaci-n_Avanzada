{
 "cells": [
  {
   "cell_type": "code",
   "execution_count": 1,
   "id": "dca8331f-343f-4c56-b326-5ba5e250ad8e",
   "metadata": {},
   "outputs": [],
   "source": [
    "import requests\n",
    "import json"
   ]
  },
  {
   "cell_type": "code",
   "execution_count": 2,
   "id": "3ebf9dc9-fa4e-4a1a-bd31-ab62bf1b11e8",
   "metadata": {},
   "outputs": [],
   "source": [
    "URL = \"http://api.open-notify.org/iss-now.json\"\n",
    "r = requests.get(URL)"
   ]
  },
  {
   "cell_type": "code",
   "execution_count": 3,
   "id": "43b797be-c52d-4492-860d-faa129552238",
   "metadata": {},
   "outputs": [
    {
     "data": {
      "text/plain": [
       "True"
      ]
     },
     "execution_count": 3,
     "metadata": {},
     "output_type": "execute_result"
    }
   ],
   "source": [
    "r.status_code == requests.codes.ok"
   ]
  },
  {
   "cell_type": "code",
   "execution_count": 4,
   "id": "2f5886ca-1c5e-430b-aded-33a0125d24e4",
   "metadata": {},
   "outputs": [
    {
     "name": "stdout",
     "output_type": "stream",
     "text": [
      "{\n",
      "    \"timestamp\": 1635261568,\n",
      "    \"message\": \"success\",\n",
      "    \"iss_position\": {\n",
      "        \"longitude\": \"73.2975\",\n",
      "        \"latitude\": \"-50.5675\"\n",
      "    }\n",
      "}\n"
     ]
    }
   ],
   "source": [
    "URL = \"http://api.open-notify.org/iss-now.json\"\n",
    "r = requests.get(URL)\n",
    "\n",
    "if r.status_code == requests.codes.ok:\n",
    "    data = r.json()\n",
    "    \n",
    "    print(json.dumps(data, indent = 4))\n",
    "else:\n",
    "    print(f\"ERROR: RESPONSE {r.status_code}\")"
   ]
  },
  {
   "cell_type": "code",
   "execution_count": 5,
   "id": "53115156-6f7c-4934-b3d3-886312ae88e9",
   "metadata": {},
   "outputs": [
    {
     "name": "stdout",
     "output_type": "stream",
     "text": [
      "Data & Time: 2021-10-26 10:19:28\n",
      "Lat: -50.5675 Lon:73.2975\n"
     ]
    }
   ],
   "source": [
    "from datetime import datetime\n",
    "\n",
    "print(f\"Data & Time: {datetime.fromtimestamp(data['timestamp'])}\")\n",
    "print(f\"Lat: {data['iss_position']['latitude']} Lon:{data['iss_position']['longitude']}\")"
   ]
  },
  {
   "cell_type": "code",
   "execution_count": 6,
   "id": "346068f9-06b1-44ec-a092-8f987e852418",
   "metadata": {},
   "outputs": [
    {
     "name": "stdout",
     "output_type": "stream",
     "text": [
      "GET http://api.open-notify.org/iss-pass.json?lat=-12.0500&lon=-77.0500\n"
     ]
    }
   ],
   "source": [
    "URL = \"http://api.open-notify.org/iss-pass.json\"\n",
    "payload = {'lat': '-12.0500',\n",
    "           'lon': '-77.0500'}\n",
    "r = requests.get(URL, params=payload)\n",
    "print(f\"GET {r.url}\")"
   ]
  },
  {
   "cell_type": "code",
   "execution_count": 7,
   "id": "0c0b9026-bdd1-4385-a498-e873522f8dbd",
   "metadata": {},
   "outputs": [
    {
     "name": "stdout",
     "output_type": "stream",
     "text": [
      "GET http://api.open-notify.org/iss-pass.json?lat=-12.0500&lon=-77.0500\n",
      "{\n",
      "    \"message\": \"success\",\n",
      "    \"request\": {\n",
      "        \"altitude\": 100,\n",
      "        \"datetime\": 1635259960,\n",
      "        \"latitude\": -12.05,\n",
      "        \"longitude\": -77.05,\n",
      "        \"passes\": 5\n",
      "    },\n",
      "    \"response\": [\n",
      "        {\n",
      "            \"duration\": 566,\n",
      "            \"risetime\": 1635271010\n",
      "        },\n",
      "        {\n",
      "            \"duration\": 600,\n",
      "            \"risetime\": 1635276790\n",
      "        },\n",
      "        {\n",
      "            \"duration\": 399,\n",
      "            \"risetime\": 1635306745\n",
      "        },\n",
      "        {\n",
      "            \"duration\": 655,\n",
      "            \"risetime\": 1635312433\n",
      "        },\n",
      "        {\n",
      "            \"duration\": 445,\n",
      "            \"risetime\": 1635354640\n",
      "        }\n",
      "    ]\n",
      "}\n"
     ]
    }
   ],
   "source": [
    "URL = \"http://api.open-notify.org/iss-pass.json\"\n",
    "payload={'lat': '-12.0500',\n",
    "         'lon': '-77.0500'}\n",
    "r = requests.get(URL, params=payload)\n",
    "print(f\"GET {r.url}\")\n",
    "\n",
    "if r.status_code == requests.codes.ok:\n",
    "    data = r.json()\n",
    "    \n",
    "    print(json.dumps(data, indent=4))\n",
    "\n",
    "    # Guardar en un archivo\n",
    "    with open(\"temp.json\", mode='w') as file:\n",
    "        json.dump(data, file)\n",
    "else:\n",
    "    print(r.status_code)"
   ]
  },
  {
   "cell_type": "code",
   "execution_count": 8,
   "id": "c7aa1b20-4879-4aad-87d8-da379bbbd11b",
   "metadata": {},
   "outputs": [
    {
     "name": "stdin",
     "output_type": "stream",
     "text": [
      "Ingrese coordenadas [NS EO]: -12.0500 -77.0500\n"
     ]
    },
    {
     "name": "stdout",
     "output_type": "stream",
     "text": [
      "1. INI: 2021-10-26 12:56:50 - FIN: 2021-10-26 13:06:16\n",
      "2. INI: 2021-10-26 14:33:10 - FIN: 2021-10-26 14:43:10\n",
      "3. INI: 2021-10-26 22:52:25 - FIN: 2021-10-26 22:59:04\n",
      "4. INI: 2021-10-27 00:27:13 - FIN: 2021-10-27 00:38:08\n",
      "5. INI: 2021-10-27 12:10:40 - FIN: 2021-10-27 12:18:05\n"
     ]
    }
   ],
   "source": [
    "import requests\n",
    "from datetime import datetime\n",
    "\n",
    "URL = \"http://api.open-notify.org/iss-pass.json\"\n",
    "lat, lon = input(\"Ingrese coordenadas [NS EO]:\").split()\n",
    "\n",
    "payload={'lat': lat,\n",
    "         'lon': lon}\n",
    "r = requests.get(URL, params=payload)\n",
    "\n",
    "if r.status_code == requests.codes.ok:\n",
    "    data = r.json()\n",
    "    \n",
    "    for idx, item in enumerate(data['response'], start=1):\n",
    "        print(f\"{idx}. INI: {datetime.fromtimestamp(int(item['risetime']))} - FIN: {datetime.fromtimestamp(int(item['risetime'] + item['duration']))}\")\n",
    "        \n",
    "else:\n",
    "    print(\"ERROR:\", r.status_code)"
   ]
  },
  {
   "cell_type": "code",
   "execution_count": 11,
   "id": "2995b4e6-3ad5-40de-969c-6211ded3ec67",
   "metadata": {},
   "outputs": [],
   "source": [
    "import tkinter as tk\n",
    "import requests\n",
    "from PIL import Image, ImageTk\n",
    "\n",
    "class App:\n",
    "    def __init__(self, master):\n",
    "        self.master = master\n",
    "        self.master.title(\"ISS Tracker\")\n",
    "        \n",
    "        img_png = Image.open(\"satellite.png\")\n",
    "        img_png = img_png.resize((160,100))\n",
    "        img = ImageTk.PhotoImage(img_png)\n",
    "        \n",
    "        frm = tk.Frame(self.master)\n",
    "        frm.pack(padx=10, pady=10)\n",
    "        \n",
    "        self.URL = \"http://api.open-notify.org/iss-now.json\"\n",
    "        \n",
    "        self.lblLat = tk.Label(frm, font = \"Arial 16 bold\")\n",
    "        self.lblLon = tk.Label(frm, font = \"Arial 16 bold\")\n",
    "        self.lbSatellite = tk.Label(frm, image=img)# Se referencia la imagen, pero el garbage lo borra\n",
    "        self.lbSatellite.image = img #Se asisgna la imagen para que el garbage no lo borre\n",
    "        \n",
    "        \n",
    "        self.lblLat.grid(row =0,column=0, padx=10, pady=10, sticky=tk.W)\n",
    "        self.lblLon.grid(row =1,column=0, padx=10, pady=10, sticky=tk.W)\n",
    "        self.lbSatellite.grid(row =0,column=1, rowspan =2, padx=10, pady=10, sticky=tk.W)\n",
    "        \n",
    "        self.query_iss()\n",
    "        \n",
    "    def query_iss(self):\n",
    "        r = requests.get(self.URL)\n",
    "        \n",
    "        if r.status_code == requests.codes.ok:\n",
    "            data = r.json()\n",
    "            self.lblLat.config(text=f\"Lat: {data['iss_position']['latitude']}\")\n",
    "            self.lblLon.config(text=f\"Lon:{data['iss_position']['longitude']}\")\n",
    "        self.master.after(1000, self.query_iss)\n",
    "        \n",
    "root = tk.Tk()\n",
    "app = App(root)\n",
    "root.mainloop()"
   ]
  },
  {
   "cell_type": "code",
   "execution_count": 2,
   "id": "64b58cd1-de2e-4e7b-b987-c7b114c633b0",
   "metadata": {},
   "outputs": [
    {
     "data": {
      "text/plain": [
       "True"
      ]
     },
     "execution_count": 2,
     "metadata": {},
     "output_type": "execute_result"
    }
   ],
   "source": [
    "import os\n",
    "from dotenv import load_dotenv, find_dotenv\n",
    "# Se creo un archivo de text\n",
    "#que dice MAP_QUESTS = 'llave secreta'\n",
    "#se guardo sin nombre y con extencion .env\n",
    "load_dotenv(find_dotenv())"
   ]
  },
  {
   "cell_type": "code",
   "execution_count": 3,
   "id": "ffcadd70-fd84-45dc-bfa1-522631c39ce2",
   "metadata": {},
   "outputs": [
    {
     "name": "stdout",
     "output_type": "stream",
     "text": [
      "K3ZofWBO0aIYW3oDtTYcZwEaZKU1Rfdr\n"
     ]
    }
   ],
   "source": [
    "API_KEY = os.environ.get(\"MAP_QUESTS\")\n",
    "print(API_KEY)"
   ]
  },
  {
   "cell_type": "code",
   "execution_count": 17,
   "id": "93ebf8a3-5e69-4717-8d1b-606fadb7c8ba",
   "metadata": {},
   "outputs": [
    {
     "data": {
      "text/plain": [
       "{'info': {'statuscode': 0,\n",
       "  'copyright': {'text': '© 2021 MapQuest, Inc.',\n",
       "   'imageUrl': 'http://api.mqcdn.com/res/mqlogo.gif',\n",
       "   'imageAltText': '© 2021 MapQuest, Inc.'},\n",
       "  'messages': []},\n",
       " 'options': {'maxResults': -1, 'thumbMaps': True, 'ignoreLatLngInput': False},\n",
       " 'results': [{'providedLocation': {'location': 'Av. La Marina 2810, San Miguel, Lima'},\n",
       "   'locations': [{'street': 'Avenida La Marina',\n",
       "     'adminArea6': 'San Miguel',\n",
       "     'adminArea6Type': 'Neighborhood',\n",
       "     'adminArea5': 'San Miguel',\n",
       "     'adminArea5Type': 'City',\n",
       "     'adminArea4': 'Lima',\n",
       "     'adminArea4Type': 'County',\n",
       "     'adminArea3': 'Lima',\n",
       "     'adminArea3Type': 'State',\n",
       "     'adminArea1': 'PE',\n",
       "     'adminArea1Type': 'Country',\n",
       "     'postalCode': 'L32',\n",
       "     'geocodeQualityCode': 'B1CAX',\n",
       "     'geocodeQuality': 'STREET',\n",
       "     'dragPoint': False,\n",
       "     'sideOfStreet': 'N',\n",
       "     'linkId': '0',\n",
       "     'unknownInput': '',\n",
       "     'type': 's',\n",
       "     'latLng': {'lat': -12.072599, 'lng': -77.103624},\n",
       "     'displayLatLng': {'lat': -12.072599, 'lng': -77.103624},\n",
       "     'mapUrl': 'http://www.mapquestapi.com/staticmap/v5/map?key=K3ZofWBO0aIYW3oDtTYcZwEaZKU1Rfdr&type=map&size=225,160&locations=-12.0725992,-77.1036245|marker-sm-50318A-1&scalebar=true&zoom=15&rand=1027113943'},\n",
       "    {'street': 'Avenida La Marina',\n",
       "     'adminArea6': 'San Miguel',\n",
       "     'adminArea6Type': 'Neighborhood',\n",
       "     'adminArea5': 'San Miguel',\n",
       "     'adminArea5Type': 'City',\n",
       "     'adminArea4': 'Lima',\n",
       "     'adminArea4Type': 'County',\n",
       "     'adminArea3': 'Lima',\n",
       "     'adminArea3Type': 'State',\n",
       "     'adminArea1': 'PE',\n",
       "     'adminArea1Type': 'Country',\n",
       "     'postalCode': 'L32',\n",
       "     'geocodeQualityCode': 'B1CAX',\n",
       "     'geocodeQuality': 'STREET',\n",
       "     'dragPoint': False,\n",
       "     'sideOfStreet': 'N',\n",
       "     'linkId': '0',\n",
       "     'unknownInput': '',\n",
       "     'type': 's',\n",
       "     'latLng': {'lat': -12.073072, 'lng': -77.102029},\n",
       "     'displayLatLng': {'lat': -12.073072, 'lng': -77.102029},\n",
       "     'mapUrl': 'http://www.mapquestapi.com/staticmap/v5/map?key=K3ZofWBO0aIYW3oDtTYcZwEaZKU1Rfdr&type=map&size=225,160&locations=-12.073072,-77.1020295|marker-sm-50318A-2&scalebar=true&zoom=15&rand=-231692046'},\n",
       "    {'street': 'Avenida La Marina',\n",
       "     'adminArea6': 'La Perla',\n",
       "     'adminArea6Type': 'Neighborhood',\n",
       "     'adminArea5': 'La Perla',\n",
       "     'adminArea5Type': 'City',\n",
       "     'adminArea4': 'Callao',\n",
       "     'adminArea4Type': 'County',\n",
       "     'adminArea3': 'Constitutional Province of Callao',\n",
       "     'adminArea3Type': 'State',\n",
       "     'adminArea1': 'PE',\n",
       "     'adminArea1Type': 'Country',\n",
       "     'postalCode': 'LIMA 32',\n",
       "     'geocodeQualityCode': 'B1CXX',\n",
       "     'geocodeQuality': 'STREET',\n",
       "     'dragPoint': False,\n",
       "     'sideOfStreet': 'N',\n",
       "     'linkId': '0',\n",
       "     'unknownInput': '',\n",
       "     'type': 's',\n",
       "     'latLng': {'lat': -12.07248, 'lng': -77.103499},\n",
       "     'displayLatLng': {'lat': -12.07248, 'lng': -77.103499},\n",
       "     'mapUrl': 'http://www.mapquestapi.com/staticmap/v5/map?key=K3ZofWBO0aIYW3oDtTYcZwEaZKU1Rfdr&type=map&size=225,160&locations=-12.0724799,-77.1034988|marker-sm-50318A-3&scalebar=true&zoom=15&rand=-1889348726'}]}]}"
      ]
     },
     "execution_count": 17,
     "metadata": {},
     "output_type": "execute_result"
    }
   ],
   "source": [
    "import requests\n",
    "import os\n",
    "\n",
    "URL = \"http://www.mapquestapi.com/geocoding/v1/address\"\n",
    "API_KEY = os.environ.get(\"MAP_QUESTS\")\n",
    "payload = {\"key\" : API_KEY,\n",
    "          \"location\" : \"Av. La Marina 2810, San Miguel, Lima\"}\n",
    "r = requests.get(URL, params=payload)\n",
    "r.json()"
   ]
  },
  {
   "cell_type": "code",
   "execution_count": 5,
   "id": "dfd22160-1045-4da4-9d16-eebe4ce7be28",
   "metadata": {},
   "outputs": [
    {
     "name": "stdin",
     "output_type": "stream",
     "text": [
      "Ingrese una localizacion:  Av. La Marina 2810, San Miguel, Lima\n"
     ]
    },
    {
     "name": "stdout",
     "output_type": "stream",
     "text": [
      "1. INI: 2021-10-29 12:11:12 - FIN 2021-10-29 12:21:42\n",
      "2. INI: 2021-10-29 13:48:56 - FIN 2021-10-29 13:57:29\n",
      "3. INI: 2021-10-29 22:06:21 - FIN 2021-10-29 22:15:19\n",
      "4. INI: 2021-10-29 23:42:21 - FIN 2021-10-29 23:52:47\n",
      "5. INI: 2021-10-30 11:24:30 - FIN 2021-10-30 11:33:58\n"
     ]
    }
   ],
   "source": [
    "import requests\n",
    "from datetime import datetime\n",
    "\n",
    "URL = \"http://open.mapquestapi.com/geocoding/v1/address\"\n",
    "\n",
    "payload = {'key': API_KEY, \n",
    "           'location': input(\"Ingrese una localizacion: \")}\n",
    "r = requests.get(URL, params=payload)\n",
    "\n",
    "if r.status_code == requests.codes.ok:\n",
    "    data = r.json()\n",
    "    lat = data['results'][0]['locations'][0]['latLng']['lat']\n",
    "    lon = data['results'][0]['locations'][0]['latLng']['lng']\n",
    "    URL = \"http://api.open-notify.org/iss-pass.json\"\n",
    "    payload={'lat':lat, 'lon':lon}\n",
    "    r = requests.get(URL, params=payload)\n",
    "\n",
    "    if r.status_code == requests.codes.ok:\n",
    "        data = r.json()\n",
    "\n",
    "        for idx, item in enumerate(data['response'], start=1):\n",
    "            start = datetime.fromtimestamp(item['risetime'])\n",
    "            finish = datetime.fromtimestamp(item['risetime'] + item['duration'])\n",
    "            print(f\"{idx}. INI: {start} - FIN {finish}\")\n",
    "    else:\n",
    "        print(\"ERROR:\", r.status_code)\n",
    "else:\n",
    "    print(\"ERROR:\", r.status_code)"
   ]
  },
  {
   "cell_type": "code",
   "execution_count": 15,
   "id": "f1f5400e-ab1f-4b46-b27a-72cb9635acca",
   "metadata": {},
   "outputs": [
    {
     "name": "stdin",
     "output_type": "stream",
     "text": [
      "Desde:  Av. Primavera 2310, Santiago de Surco, Lima\n",
      "Hacia:  Av. La Marina 2810, San Miguel, Lima\n"
     ]
    },
    {
     "name": "stdout",
     "output_type": "stream",
     "text": [
      "Informacion del viaje\n",
      "---------------------\n",
      "Distancia: 18.4302 Km\n",
      "Timepo de viaje: 00:19:33\n",
      "Hora de llegada: 11:22\n",
      "Direcciones\n",
      "-----------\n",
      "[1].---\n",
      "2. Tome dirección sudoeste en Avenida Primavera hacia Nepeña.\n",
      "3. Gire ligeramente a la derecha hacia ramp.\n",
      "4. Incorpórese a PE-1S/Panamericana Sur.\n",
      "5. PE-1S/Panamericana Sur se convierte en PE-1N.\n",
      "6. Tome salida 3D.\n",
      "7. Incorpórese a Javier Prado Este.\n",
      "8. Siga recto para ir hacia Avenida Javier Prado Oeste.\n",
      "9. Gire ligeramente a la derecha hacia Faustino Sanchez Carrion.\n",
      "10. Faustino Sanchez Carrion se convierte en Avenida La Marina.\n",
      "11. Gire izquierda hacia Avenida de los Insurgentes.\n",
      "12. Gire izquierda hacia Avenida La Marina.\n",
      "13. AVENIDA LA MARINA.\n"
     ]
    }
   ],
   "source": [
    "import requests\n",
    "import os\n",
    "from datetime import datetime, timedelta\n",
    "\n",
    "API_KEY = os.environ.get(\"MAP_QUESTS\")\n",
    "URL = \"http://mapquestapi.com/directions/v2/route\"\n",
    "\n",
    "payload = {'key': API_KEY, \n",
    "           'from': input(\"Desde: \"), #Av. La Marina 2810, San Miguel, Lima\n",
    "          'to' : input(\"Hacia: \"), #Av. Primavera 2310, Santiago de Surco, Lima\n",
    "          'unit' : 'k',\n",
    "          'locale' : 'es_ES'}\n",
    "r = requests.get(URL, params=payload)\n",
    "\n",
    "\n",
    "if r.status_code == requests.codes.ok:\n",
    "    data = r.json()\n",
    "    #Informacion de viaje\n",
    "    print(\"Informacion del viaje\")\n",
    "    print(\"---------------------\")\n",
    "    print(f\"Distancia: {data['route']['legs'][0]['distance']} Km\")\n",
    "    print(f\"Timepo de viaje: {data['route']['legs'][0]['formattedTime']}\")\n",
    "    time_arrival = datetime.now()+timedelta(seconds=data['route']['legs'][0]['time'])  \n",
    "    print(f\"Hora de llegada: {time_arrival.strftime('%H:%M')}\")\n",
    "    \n",
    "    #Maniobras de viaje\n",
    "    print(\"Direcciones\")\n",
    "    print(\"-----------\")\n",
    "    \n",
    "    origin = data['route']['legs'][0]['origNarrative']\n",
    "    if origin == \"\":\n",
    "        origin = \"---\"\n",
    "    print(f\"[1].{origin}\")\n",
    "    for idx,item in enumerate(data['route']['legs'][0]['maneuvers'], start = 2):\n",
    "        print(f\"{idx}. {item['narrative']}\")\n",
    "else:\n",
    "    print(\"ERROR:\", r.status_code)"
   ]
  },
  {
   "cell_type": "code",
   "execution_count": 17,
   "id": "9ea2b600-a71d-4e6f-bcad-c474526f2e43",
   "metadata": {},
   "outputs": [],
   "source": [
    "import os\n",
    "from datetime import datetime, timedelta\n",
    "import requests\n",
    "import json\n",
    "\n",
    "API_KEY = os.environ.get(\"MAP_QUESTS\")\n",
    "URL = \"http://mapquestapi.com/directions/v2/route\"\n",
    "\n",
    "payload = {'key': API_KEY, \n",
    "           'from': \"Av. La Marina 2810, San Miguel, Lima\", #Av. La Marina 2810, San Miguel, Lima\n",
    "          'to' : \"Av. Primavera 2310, Santiago de Surco, Lima\", #Av. Primavera 2310, Santiago de Surco, Lima\n",
    "          'unit' : 'k',\n",
    "          'locale' : 'es_ES'}\n",
    "r = requests.get(URL, params=payload)\n",
    "data = r.json()\n",
    "\n",
    "with open(\"temp.json\", mode='w') as file:\n",
    "    json.dump(data, file)"
   ]
  },
  {
   "cell_type": "markdown",
   "id": "c8c53f64-173b-48e4-9e31-160c4c87f243",
   "metadata": {},
   "source": [
    "## SDK"
   ]
  },
  {
   "cell_type": "code",
   "execution_count": 18,
   "id": "e2ef502f-8dcf-44b1-b7d7-0266c2402f2c",
   "metadata": {},
   "outputs": [],
   "source": [
    "from geopy.geocoders import Nominatim\n",
    "\n",
    "geolocator = Nominatim(user_agent = 'my_app')\n",
    "location = geolocator.geocode(\"UPC Campus San Miguel\")"
   ]
  },
  {
   "cell_type": "code",
   "execution_count": 19,
   "id": "b206d8b4-cf67-4056-8deb-664f9dc28d35",
   "metadata": {},
   "outputs": [
    {
     "data": {
      "text/plain": [
       "geopy.location.Location"
      ]
     },
     "execution_count": 19,
     "metadata": {},
     "output_type": "execute_result"
    }
   ],
   "source": [
    "type(location)"
   ]
  },
  {
   "cell_type": "code",
   "execution_count": 20,
   "id": "e1e98f1d-00b3-4bdd-b8f0-00a77857911d",
   "metadata": {},
   "outputs": [
    {
     "data": {
      "text/plain": [
       "'UPC - Campus San Miguel, 2810, Avenida La Marina, Virgen de Fatima, San Miguel, Lima, Lima Metropolitana, Lima, 15087, Perú'"
      ]
     },
     "execution_count": 20,
     "metadata": {},
     "output_type": "execute_result"
    }
   ],
   "source": [
    "location.address"
   ]
  },
  {
   "cell_type": "code",
   "execution_count": 21,
   "id": "87be5183-73ed-4844-83b4-33258a8e737f",
   "metadata": {},
   "outputs": [
    {
     "data": {
      "text/plain": [
       "-12.076417849999999"
      ]
     },
     "execution_count": 21,
     "metadata": {},
     "output_type": "execute_result"
    }
   ],
   "source": [
    "location.latitude"
   ]
  },
  {
   "cell_type": "code",
   "execution_count": 22,
   "id": "7ae91036-7605-4141-9ef1-3fe0094802c0",
   "metadata": {},
   "outputs": [
    {
     "data": {
      "text/plain": [
       "-77.09360681318614"
      ]
     },
     "execution_count": 22,
     "metadata": {},
     "output_type": "execute_result"
    }
   ],
   "source": [
    "location.longitude"
   ]
  },
  {
   "cell_type": "code",
   "execution_count": 23,
   "id": "8baf6530-25a8-49c2-8ba0-693564ca6532",
   "metadata": {},
   "outputs": [
    {
     "data": {
      "text/plain": [
       "{'place_id': 196880397,\n",
       " 'licence': 'Data © OpenStreetMap contributors, ODbL 1.0. https://osm.org/copyright',\n",
       " 'osm_type': 'way',\n",
       " 'osm_id': 418674556,\n",
       " 'boundingbox': ['-12.0770408', '-12.0758134', '-77.0942605', '-77.0929534'],\n",
       " 'lat': '-12.076417849999999',\n",
       " 'lon': '-77.09360681318614',\n",
       " 'display_name': 'UPC - Campus San Miguel, 2810, Avenida La Marina, Virgen de Fatima, San Miguel, Lima, Lima Metropolitana, Lima, 15087, Perú',\n",
       " 'class': 'amenity',\n",
       " 'type': 'university',\n",
       " 'importance': 0.401,\n",
       " 'icon': 'https://nominatim.openstreetmap.org/ui/mapicons//education_university.p.20.png'}"
      ]
     },
     "execution_count": 23,
     "metadata": {},
     "output_type": "execute_result"
    }
   ],
   "source": [
    "location.raw"
   ]
  },
  {
   "cell_type": "code",
   "execution_count": 25,
   "id": "74e92d62-c543-4a97-8a9f-3a224614fa96",
   "metadata": {},
   "outputs": [],
   "source": [
    "import folium"
   ]
  },
  {
   "cell_type": "code",
   "execution_count": 26,
   "id": "51bc3fb1-cb16-4e85-8d66-f87e4feac348",
   "metadata": {},
   "outputs": [],
   "source": [
    "m = folium.Map(location = [location.latitude,location.longitude],\n",
    "              zoom_start = 18)"
   ]
  },
  {
   "cell_type": "code",
   "execution_count": 34,
   "id": "6cda2490-7b24-4c81-bf74-9b97bfaf43fc",
   "metadata": {},
   "outputs": [
    {
     "data": {
      "text/plain": [
       "<folium.map.Marker at 0x23c18ffb190>"
      ]
     },
     "execution_count": 34,
     "metadata": {},
     "output_type": "execute_result"
    }
   ],
   "source": [
    "folium.Marker(location = [location.latitude,location.longitude],popup = \"UPC\", icon=folium.Icon()).add_to(m)"
   ]
  },
  {
   "cell_type": "code",
   "execution_count": 31,
   "id": "789cf69b-9d44-42a1-915b-16b338a90fa2",
   "metadata": {},
   "outputs": [],
   "source": [
    "sw = list(map(lambda x: float(x), location.raw['boundingbox'][0::2]))\n",
    "ne = list(map(lambda x: float(x), location.raw['boundingbox'][1::2]))\n",
    "m.fit_bounds([sw, ne])"
   ]
  },
  {
   "cell_type": "code",
   "execution_count": 35,
   "id": "7993907a-9141-48df-b57e-612069df015f",
   "metadata": {},
   "outputs": [
    {
     "data": {
      "text/html": [
       "<div style=\"width:100%;\"><div style=\"position:relative;width:100%;height:0;padding-bottom:60%;\"><span style=\"color:#565656\">Make this Notebook Trusted to load map: File -> Trust Notebook</span><iframe src=\"about:blank\" style=\"position:absolute;width:100%;height:100%;left:0;top:0;border:none !important;\" data-html=%3C%21DOCTYPE%20html%3E%0A%3Chead%3E%20%20%20%20%0A%20%20%20%20%3Cmeta%20http-equiv%3D%22content-type%22%20content%3D%22text/html%3B%20charset%3DUTF-8%22%20/%3E%0A%20%20%20%20%0A%20%20%20%20%20%20%20%20%3Cscript%3E%0A%20%20%20%20%20%20%20%20%20%20%20%20L_NO_TOUCH%20%3D%20false%3B%0A%20%20%20%20%20%20%20%20%20%20%20%20L_DISABLE_3D%20%3D%20false%3B%0A%20%20%20%20%20%20%20%20%3C/script%3E%0A%20%20%20%20%0A%20%20%20%20%3Cstyle%3Ehtml%2C%20body%20%7Bwidth%3A%20100%25%3Bheight%3A%20100%25%3Bmargin%3A%200%3Bpadding%3A%200%3B%7D%3C/style%3E%0A%20%20%20%20%3Cstyle%3E%23map%20%7Bposition%3Aabsolute%3Btop%3A0%3Bbottom%3A0%3Bright%3A0%3Bleft%3A0%3B%7D%3C/style%3E%0A%20%20%20%20%3Cscript%20src%3D%22https%3A//cdn.jsdelivr.net/npm/leaflet%401.6.0/dist/leaflet.js%22%3E%3C/script%3E%0A%20%20%20%20%3Cscript%20src%3D%22https%3A//code.jquery.com/jquery-1.12.4.min.js%22%3E%3C/script%3E%0A%20%20%20%20%3Cscript%20src%3D%22https%3A//maxcdn.bootstrapcdn.com/bootstrap/3.2.0/js/bootstrap.min.js%22%3E%3C/script%3E%0A%20%20%20%20%3Cscript%20src%3D%22https%3A//cdnjs.cloudflare.com/ajax/libs/Leaflet.awesome-markers/2.0.2/leaflet.awesome-markers.js%22%3E%3C/script%3E%0A%20%20%20%20%3Clink%20rel%3D%22stylesheet%22%20href%3D%22https%3A//cdn.jsdelivr.net/npm/leaflet%401.6.0/dist/leaflet.css%22/%3E%0A%20%20%20%20%3Clink%20rel%3D%22stylesheet%22%20href%3D%22https%3A//maxcdn.bootstrapcdn.com/bootstrap/3.2.0/css/bootstrap.min.css%22/%3E%0A%20%20%20%20%3Clink%20rel%3D%22stylesheet%22%20href%3D%22https%3A//maxcdn.bootstrapcdn.com/bootstrap/3.2.0/css/bootstrap-theme.min.css%22/%3E%0A%20%20%20%20%3Clink%20rel%3D%22stylesheet%22%20href%3D%22https%3A//maxcdn.bootstrapcdn.com/font-awesome/4.6.3/css/font-awesome.min.css%22/%3E%0A%20%20%20%20%3Clink%20rel%3D%22stylesheet%22%20href%3D%22https%3A//cdnjs.cloudflare.com/ajax/libs/Leaflet.awesome-markers/2.0.2/leaflet.awesome-markers.css%22/%3E%0A%20%20%20%20%3Clink%20rel%3D%22stylesheet%22%20href%3D%22https%3A//cdn.jsdelivr.net/gh/python-visualization/folium/folium/templates/leaflet.awesome.rotate.min.css%22/%3E%0A%20%20%20%20%0A%20%20%20%20%20%20%20%20%20%20%20%20%3Cmeta%20name%3D%22viewport%22%20content%3D%22width%3Ddevice-width%2C%0A%20%20%20%20%20%20%20%20%20%20%20%20%20%20%20%20initial-scale%3D1.0%2C%20maximum-scale%3D1.0%2C%20user-scalable%3Dno%22%20/%3E%0A%20%20%20%20%20%20%20%20%20%20%20%20%3Cstyle%3E%0A%20%20%20%20%20%20%20%20%20%20%20%20%20%20%20%20%23map_90a71d071b784ea79979ca5ad8dedb95%20%7B%0A%20%20%20%20%20%20%20%20%20%20%20%20%20%20%20%20%20%20%20%20position%3A%20relative%3B%0A%20%20%20%20%20%20%20%20%20%20%20%20%20%20%20%20%20%20%20%20width%3A%20100.0%25%3B%0A%20%20%20%20%20%20%20%20%20%20%20%20%20%20%20%20%20%20%20%20height%3A%20100.0%25%3B%0A%20%20%20%20%20%20%20%20%20%20%20%20%20%20%20%20%20%20%20%20left%3A%200.0%25%3B%0A%20%20%20%20%20%20%20%20%20%20%20%20%20%20%20%20%20%20%20%20top%3A%200.0%25%3B%0A%20%20%20%20%20%20%20%20%20%20%20%20%20%20%20%20%7D%0A%20%20%20%20%20%20%20%20%20%20%20%20%3C/style%3E%0A%20%20%20%20%20%20%20%20%0A%3C/head%3E%0A%3Cbody%3E%20%20%20%20%0A%20%20%20%20%0A%20%20%20%20%20%20%20%20%20%20%20%20%3Cdiv%20class%3D%22folium-map%22%20id%3D%22map_90a71d071b784ea79979ca5ad8dedb95%22%20%3E%3C/div%3E%0A%20%20%20%20%20%20%20%20%0A%3C/body%3E%0A%3Cscript%3E%20%20%20%20%0A%20%20%20%20%0A%20%20%20%20%20%20%20%20%20%20%20%20var%20map_90a71d071b784ea79979ca5ad8dedb95%20%3D%20L.map%28%0A%20%20%20%20%20%20%20%20%20%20%20%20%20%20%20%20%22map_90a71d071b784ea79979ca5ad8dedb95%22%2C%0A%20%20%20%20%20%20%20%20%20%20%20%20%20%20%20%20%7B%0A%20%20%20%20%20%20%20%20%20%20%20%20%20%20%20%20%20%20%20%20center%3A%20%5B-12.076417849999999%2C%20-77.09360681318614%5D%2C%0A%20%20%20%20%20%20%20%20%20%20%20%20%20%20%20%20%20%20%20%20crs%3A%20L.CRS.EPSG3857%2C%0A%20%20%20%20%20%20%20%20%20%20%20%20%20%20%20%20%20%20%20%20zoom%3A%2018%2C%0A%20%20%20%20%20%20%20%20%20%20%20%20%20%20%20%20%20%20%20%20zoomControl%3A%20true%2C%0A%20%20%20%20%20%20%20%20%20%20%20%20%20%20%20%20%20%20%20%20preferCanvas%3A%20false%2C%0A%20%20%20%20%20%20%20%20%20%20%20%20%20%20%20%20%7D%0A%20%20%20%20%20%20%20%20%20%20%20%20%29%3B%0A%0A%20%20%20%20%20%20%20%20%20%20%20%20%0A%0A%20%20%20%20%20%20%20%20%0A%20%20%20%20%0A%20%20%20%20%20%20%20%20%20%20%20%20var%20tile_layer_72ef66dd59d6426785b6887dd33eb6a7%20%3D%20L.tileLayer%28%0A%20%20%20%20%20%20%20%20%20%20%20%20%20%20%20%20%22https%3A//%7Bs%7D.tile.openstreetmap.org/%7Bz%7D/%7Bx%7D/%7By%7D.png%22%2C%0A%20%20%20%20%20%20%20%20%20%20%20%20%20%20%20%20%7B%22attribution%22%3A%20%22Data%20by%20%5Cu0026copy%3B%20%5Cu003ca%20href%3D%5C%22http%3A//openstreetmap.org%5C%22%5Cu003eOpenStreetMap%5Cu003c/a%5Cu003e%2C%20under%20%5Cu003ca%20href%3D%5C%22http%3A//www.openstreetmap.org/copyright%5C%22%5Cu003eODbL%5Cu003c/a%5Cu003e.%22%2C%20%22detectRetina%22%3A%20false%2C%20%22maxNativeZoom%22%3A%2018%2C%20%22maxZoom%22%3A%2018%2C%20%22minZoom%22%3A%200%2C%20%22noWrap%22%3A%20false%2C%20%22opacity%22%3A%201%2C%20%22subdomains%22%3A%20%22abc%22%2C%20%22tms%22%3A%20false%7D%0A%20%20%20%20%20%20%20%20%20%20%20%20%29.addTo%28map_90a71d071b784ea79979ca5ad8dedb95%29%3B%0A%20%20%20%20%20%20%20%20%0A%20%20%20%20%0A%20%20%20%20%20%20%20%20%20%20%20%20var%20marker_75204db13a4940248f71228244fe6d15%20%3D%20L.marker%28%0A%20%20%20%20%20%20%20%20%20%20%20%20%20%20%20%20%5B-12.076417849999999%2C%20-77.09360681318614%5D%2C%0A%20%20%20%20%20%20%20%20%20%20%20%20%20%20%20%20%7B%7D%0A%20%20%20%20%20%20%20%20%20%20%20%20%29.addTo%28map_90a71d071b784ea79979ca5ad8dedb95%29%3B%0A%20%20%20%20%20%20%20%20%0A%20%20%20%20%0A%20%20%20%20%20%20%20%20var%20popup_4caff4466324486a900279b2921cb756%20%3D%20L.popup%28%7B%22maxWidth%22%3A%20%22100%25%22%7D%29%3B%0A%0A%20%20%20%20%20%20%20%20%0A%20%20%20%20%20%20%20%20%20%20%20%20var%20html_fc987bebbc194a1aacc2238766596b5a%20%3D%20%24%28%60%3Cdiv%20id%3D%22html_fc987bebbc194a1aacc2238766596b5a%22%20style%3D%22width%3A%20100.0%25%3B%20height%3A%20100.0%25%3B%22%3EUPC%3C/div%3E%60%29%5B0%5D%3B%0A%20%20%20%20%20%20%20%20%20%20%20%20popup_4caff4466324486a900279b2921cb756.setContent%28html_fc987bebbc194a1aacc2238766596b5a%29%3B%0A%20%20%20%20%20%20%20%20%0A%0A%20%20%20%20%20%20%20%20marker_75204db13a4940248f71228244fe6d15.bindPopup%28popup_4caff4466324486a900279b2921cb756%29%0A%20%20%20%20%20%20%20%20%3B%0A%0A%20%20%20%20%20%20%20%20%0A%20%20%20%20%0A%20%20%20%20%0A%20%20%20%20%20%20%20%20%20%20%20%20map_90a71d071b784ea79979ca5ad8dedb95.fitBounds%28%0A%20%20%20%20%20%20%20%20%20%20%20%20%20%20%20%20%5B%5B-12.0770408%2C%20-77.0942605%5D%2C%20%5B-12.0758134%2C%20-77.0929534%5D%5D%2C%0A%20%20%20%20%20%20%20%20%20%20%20%20%20%20%20%20%7B%7D%0A%20%20%20%20%20%20%20%20%20%20%20%20%29%3B%0A%20%20%20%20%20%20%20%20%0A%20%20%20%20%0A%20%20%20%20%20%20%20%20%20%20%20%20var%20marker_040961bd86d34e28a1d73f4b2238f0d7%20%3D%20L.marker%28%0A%20%20%20%20%20%20%20%20%20%20%20%20%20%20%20%20%5B-12.076417849999999%2C%20-77.09360681318614%5D%2C%0A%20%20%20%20%20%20%20%20%20%20%20%20%20%20%20%20%7B%7D%0A%20%20%20%20%20%20%20%20%20%20%20%20%29.addTo%28map_90a71d071b784ea79979ca5ad8dedb95%29%3B%0A%20%20%20%20%20%20%20%20%0A%20%20%20%20%0A%20%20%20%20%20%20%20%20%20%20%20%20var%20icon_1151082afefd43dca2faeac657df54a4%20%3D%20L.AwesomeMarkers.icon%28%0A%20%20%20%20%20%20%20%20%20%20%20%20%20%20%20%20%7B%22extraClasses%22%3A%20%22fa-rotate-0%22%2C%20%22icon%22%3A%20%22info-sign%22%2C%20%22iconColor%22%3A%20%22white%22%2C%20%22markerColor%22%3A%20%22blue%22%2C%20%22prefix%22%3A%20%22glyphicon%22%7D%0A%20%20%20%20%20%20%20%20%20%20%20%20%29%3B%0A%20%20%20%20%20%20%20%20%20%20%20%20marker_040961bd86d34e28a1d73f4b2238f0d7.setIcon%28icon_1151082afefd43dca2faeac657df54a4%29%3B%0A%20%20%20%20%20%20%20%20%0A%20%20%20%20%0A%20%20%20%20%20%20%20%20var%20popup_df8371db8a0a41e9babf96e223703a4a%20%3D%20L.popup%28%7B%22maxWidth%22%3A%20%22100%25%22%7D%29%3B%0A%0A%20%20%20%20%20%20%20%20%0A%20%20%20%20%20%20%20%20%20%20%20%20var%20html_d2a9fc7034e84e4bacfb70f90090f409%20%3D%20%24%28%60%3Cdiv%20id%3D%22html_d2a9fc7034e84e4bacfb70f90090f409%22%20style%3D%22width%3A%20100.0%25%3B%20height%3A%20100.0%25%3B%22%3EUPC%3C/div%3E%60%29%5B0%5D%3B%0A%20%20%20%20%20%20%20%20%20%20%20%20popup_df8371db8a0a41e9babf96e223703a4a.setContent%28html_d2a9fc7034e84e4bacfb70f90090f409%29%3B%0A%20%20%20%20%20%20%20%20%0A%0A%20%20%20%20%20%20%20%20marker_040961bd86d34e28a1d73f4b2238f0d7.bindPopup%28popup_df8371db8a0a41e9babf96e223703a4a%29%0A%20%20%20%20%20%20%20%20%3B%0A%0A%20%20%20%20%20%20%20%20%0A%20%20%20%20%0A%3C/script%3E onload=\"this.contentDocument.open();this.contentDocument.write(    decodeURIComponent(this.getAttribute('data-html')));this.contentDocument.close();\" allowfullscreen webkitallowfullscreen mozallowfullscreen></iframe></div></div>"
      ],
      "text/plain": [
       "<folium.folium.Map at 0x23c1ac6d8e0>"
      ]
     },
     "execution_count": 35,
     "metadata": {},
     "output_type": "execute_result"
    }
   ],
   "source": [
    "m"
   ]
  },
  {
   "cell_type": "code",
   "execution_count": 39,
   "id": "598b86b7-21eb-44e2-b0d8-c5195b940345",
   "metadata": {},
   "outputs": [
    {
     "data": {
      "text/html": [
       "<div style=\"width:100%;\"><div style=\"position:relative;width:100%;height:0;padding-bottom:60%;\"><span style=\"color:#565656\">Make this Notebook Trusted to load map: File -> Trust Notebook</span><iframe src=\"about:blank\" style=\"position:absolute;width:100%;height:100%;left:0;top:0;border:none !important;\" data-html=%3C%21DOCTYPE%20html%3E%0A%3Chead%3E%20%20%20%20%0A%20%20%20%20%3Cmeta%20http-equiv%3D%22content-type%22%20content%3D%22text/html%3B%20charset%3DUTF-8%22%20/%3E%0A%20%20%20%20%0A%20%20%20%20%20%20%20%20%3Cscript%3E%0A%20%20%20%20%20%20%20%20%20%20%20%20L_NO_TOUCH%20%3D%20false%3B%0A%20%20%20%20%20%20%20%20%20%20%20%20L_DISABLE_3D%20%3D%20false%3B%0A%20%20%20%20%20%20%20%20%3C/script%3E%0A%20%20%20%20%0A%20%20%20%20%3Cstyle%3Ehtml%2C%20body%20%7Bwidth%3A%20100%25%3Bheight%3A%20100%25%3Bmargin%3A%200%3Bpadding%3A%200%3B%7D%3C/style%3E%0A%20%20%20%20%3Cstyle%3E%23map%20%7Bposition%3Aabsolute%3Btop%3A0%3Bbottom%3A0%3Bright%3A0%3Bleft%3A0%3B%7D%3C/style%3E%0A%20%20%20%20%3Cscript%20src%3D%22https%3A//cdn.jsdelivr.net/npm/leaflet%401.6.0/dist/leaflet.js%22%3E%3C/script%3E%0A%20%20%20%20%3Cscript%20src%3D%22https%3A//code.jquery.com/jquery-1.12.4.min.js%22%3E%3C/script%3E%0A%20%20%20%20%3Cscript%20src%3D%22https%3A//maxcdn.bootstrapcdn.com/bootstrap/3.2.0/js/bootstrap.min.js%22%3E%3C/script%3E%0A%20%20%20%20%3Cscript%20src%3D%22https%3A//cdnjs.cloudflare.com/ajax/libs/Leaflet.awesome-markers/2.0.2/leaflet.awesome-markers.js%22%3E%3C/script%3E%0A%20%20%20%20%3Clink%20rel%3D%22stylesheet%22%20href%3D%22https%3A//cdn.jsdelivr.net/npm/leaflet%401.6.0/dist/leaflet.css%22/%3E%0A%20%20%20%20%3Clink%20rel%3D%22stylesheet%22%20href%3D%22https%3A//maxcdn.bootstrapcdn.com/bootstrap/3.2.0/css/bootstrap.min.css%22/%3E%0A%20%20%20%20%3Clink%20rel%3D%22stylesheet%22%20href%3D%22https%3A//maxcdn.bootstrapcdn.com/bootstrap/3.2.0/css/bootstrap-theme.min.css%22/%3E%0A%20%20%20%20%3Clink%20rel%3D%22stylesheet%22%20href%3D%22https%3A//maxcdn.bootstrapcdn.com/font-awesome/4.6.3/css/font-awesome.min.css%22/%3E%0A%20%20%20%20%3Clink%20rel%3D%22stylesheet%22%20href%3D%22https%3A//cdnjs.cloudflare.com/ajax/libs/Leaflet.awesome-markers/2.0.2/leaflet.awesome-markers.css%22/%3E%0A%20%20%20%20%3Clink%20rel%3D%22stylesheet%22%20href%3D%22https%3A//cdn.jsdelivr.net/gh/python-visualization/folium/folium/templates/leaflet.awesome.rotate.min.css%22/%3E%0A%20%20%20%20%0A%20%20%20%20%20%20%20%20%20%20%20%20%3Cmeta%20name%3D%22viewport%22%20content%3D%22width%3Ddevice-width%2C%0A%20%20%20%20%20%20%20%20%20%20%20%20%20%20%20%20initial-scale%3D1.0%2C%20maximum-scale%3D1.0%2C%20user-scalable%3Dno%22%20/%3E%0A%20%20%20%20%20%20%20%20%20%20%20%20%3Cstyle%3E%0A%20%20%20%20%20%20%20%20%20%20%20%20%20%20%20%20%23map_b1567fdf507b4cceb61cd392f5b51e92%20%7B%0A%20%20%20%20%20%20%20%20%20%20%20%20%20%20%20%20%20%20%20%20position%3A%20relative%3B%0A%20%20%20%20%20%20%20%20%20%20%20%20%20%20%20%20%20%20%20%20width%3A%20100.0%25%3B%0A%20%20%20%20%20%20%20%20%20%20%20%20%20%20%20%20%20%20%20%20height%3A%20100.0%25%3B%0A%20%20%20%20%20%20%20%20%20%20%20%20%20%20%20%20%20%20%20%20left%3A%200.0%25%3B%0A%20%20%20%20%20%20%20%20%20%20%20%20%20%20%20%20%20%20%20%20top%3A%200.0%25%3B%0A%20%20%20%20%20%20%20%20%20%20%20%20%20%20%20%20%7D%0A%20%20%20%20%20%20%20%20%20%20%20%20%3C/style%3E%0A%20%20%20%20%20%20%20%20%0A%3C/head%3E%0A%3Cbody%3E%20%20%20%20%0A%20%20%20%20%0A%20%20%20%20%20%20%20%20%20%20%20%20%3Cdiv%20class%3D%22folium-map%22%20id%3D%22map_b1567fdf507b4cceb61cd392f5b51e92%22%20%3E%3C/div%3E%0A%20%20%20%20%20%20%20%20%0A%3C/body%3E%0A%3Cscript%3E%20%20%20%20%0A%20%20%20%20%0A%20%20%20%20%20%20%20%20%20%20%20%20var%20map_b1567fdf507b4cceb61cd392f5b51e92%20%3D%20L.map%28%0A%20%20%20%20%20%20%20%20%20%20%20%20%20%20%20%20%22map_b1567fdf507b4cceb61cd392f5b51e92%22%2C%0A%20%20%20%20%20%20%20%20%20%20%20%20%20%20%20%20%7B%0A%20%20%20%20%20%20%20%20%20%20%20%20%20%20%20%20%20%20%20%20center%3A%20%5B-12.05%2C%20-77.05%5D%2C%0A%20%20%20%20%20%20%20%20%20%20%20%20%20%20%20%20%20%20%20%20crs%3A%20L.CRS.EPSG3857%2C%0A%20%20%20%20%20%20%20%20%20%20%20%20%20%20%20%20%20%20%20%20zoom%3A%2010%2C%0A%20%20%20%20%20%20%20%20%20%20%20%20%20%20%20%20%20%20%20%20zoomControl%3A%20true%2C%0A%20%20%20%20%20%20%20%20%20%20%20%20%20%20%20%20%20%20%20%20preferCanvas%3A%20false%2C%0A%20%20%20%20%20%20%20%20%20%20%20%20%20%20%20%20%7D%0A%20%20%20%20%20%20%20%20%20%20%20%20%29%3B%0A%0A%20%20%20%20%20%20%20%20%20%20%20%20%0A%0A%20%20%20%20%20%20%20%20%0A%20%20%20%20%0A%20%20%20%20%20%20%20%20%20%20%20%20var%20tile_layer_3966e1c290494a4f9648baccd79e52d2%20%3D%20L.tileLayer%28%0A%20%20%20%20%20%20%20%20%20%20%20%20%20%20%20%20%22https%3A//%7Bs%7D.tile.openstreetmap.org/%7Bz%7D/%7Bx%7D/%7By%7D.png%22%2C%0A%20%20%20%20%20%20%20%20%20%20%20%20%20%20%20%20%7B%22attribution%22%3A%20%22Data%20by%20%5Cu0026copy%3B%20%5Cu003ca%20href%3D%5C%22http%3A//openstreetmap.org%5C%22%5Cu003eOpenStreetMap%5Cu003c/a%5Cu003e%2C%20under%20%5Cu003ca%20href%3D%5C%22http%3A//www.openstreetmap.org/copyright%5C%22%5Cu003eODbL%5Cu003c/a%5Cu003e.%22%2C%20%22detectRetina%22%3A%20false%2C%20%22maxNativeZoom%22%3A%2018%2C%20%22maxZoom%22%3A%2018%2C%20%22minZoom%22%3A%200%2C%20%22noWrap%22%3A%20false%2C%20%22opacity%22%3A%201%2C%20%22subdomains%22%3A%20%22abc%22%2C%20%22tms%22%3A%20false%7D%0A%20%20%20%20%20%20%20%20%20%20%20%20%29.addTo%28map_b1567fdf507b4cceb61cd392f5b51e92%29%3B%0A%20%20%20%20%20%20%20%20%0A%20%20%20%20%0A%20%20%20%20%20%20%20%20%20%20%20%20var%20marker_a00ca5a1797147d2ac3dff8ca9617961%20%3D%20L.marker%28%0A%20%20%20%20%20%20%20%20%20%20%20%20%20%20%20%20%5B-12.043133%2C%20-76.927272%5D%2C%0A%20%20%20%20%20%20%20%20%20%20%20%20%20%20%20%20%7B%7D%0A%20%20%20%20%20%20%20%20%20%20%20%20%29.addTo%28map_b1567fdf507b4cceb61cd392f5b51e92%29%3B%0A%20%20%20%20%20%20%20%20%0A%20%20%20%20%0A%20%20%20%20%20%20%20%20%20%20%20%20var%20icon_e76c4b1e928c410182e91459a86b76af%20%3D%20L.AwesomeMarkers.icon%28%0A%20%20%20%20%20%20%20%20%20%20%20%20%20%20%20%20%7B%22extraClasses%22%3A%20%22fa-rotate-0%22%2C%20%22icon%22%3A%20%22info-sign%22%2C%20%22iconColor%22%3A%20%22white%22%2C%20%22markerColor%22%3A%20%22blue%22%2C%20%22prefix%22%3A%20%22glyphicon%22%7D%0A%20%20%20%20%20%20%20%20%20%20%20%20%29%3B%0A%20%20%20%20%20%20%20%20%20%20%20%20marker_a00ca5a1797147d2ac3dff8ca9617961.setIcon%28icon_e76c4b1e928c410182e91459a86b76af%29%3B%0A%20%20%20%20%20%20%20%20%0A%20%20%20%20%0A%20%20%20%20%20%20%20%20var%20popup_fda3f7da9d184964bb00f43e2b3e55cb%20%3D%20L.popup%28%7B%22maxWidth%22%3A%20%22100%25%22%7D%29%3B%0A%0A%20%20%20%20%20%20%20%20%0A%20%20%20%20%20%20%20%20%20%20%20%20var%20html_0af53a596c8a4d23a4eee6e0d7d34234%20%3D%20%24%28%60%3Cdiv%20id%3D%22html_0af53a596c8a4d23a4eee6e0d7d34234%22%20style%3D%22width%3A%20100.0%25%3B%20height%3A%20100.0%25%3B%22%3EJJ%20Bocanegra%3C/div%3E%60%29%5B0%5D%3B%0A%20%20%20%20%20%20%20%20%20%20%20%20popup_fda3f7da9d184964bb00f43e2b3e55cb.setContent%28html_0af53a596c8a4d23a4eee6e0d7d34234%29%3B%0A%20%20%20%20%20%20%20%20%0A%0A%20%20%20%20%20%20%20%20marker_a00ca5a1797147d2ac3dff8ca9617961.bindPopup%28popup_fda3f7da9d184964bb00f43e2b3e55cb%29%0A%20%20%20%20%20%20%20%20%3B%0A%0A%20%20%20%20%20%20%20%20%0A%20%20%20%20%0A%20%20%20%20%0A%20%20%20%20%20%20%20%20%20%20%20%20var%20marker_d118feaee4b84d5f9473a441827fb5ba%20%3D%20L.marker%28%0A%20%20%20%20%20%20%20%20%20%20%20%20%20%20%20%20%5B-12.016288311750076%2C%20-77.0425285000052%5D%2C%0A%20%20%20%20%20%20%20%20%20%20%20%20%20%20%20%20%7B%7D%0A%20%20%20%20%20%20%20%20%20%20%20%20%29.addTo%28map_b1567fdf507b4cceb61cd392f5b51e92%29%3B%0A%20%20%20%20%20%20%20%20%0A%20%20%20%20%0A%20%20%20%20%20%20%20%20%20%20%20%20var%20icon_360dd08d2102491a93a923c6fd721b12%20%3D%20L.AwesomeMarkers.icon%28%0A%20%20%20%20%20%20%20%20%20%20%20%20%20%20%20%20%7B%22extraClasses%22%3A%20%22fa-rotate-0%22%2C%20%22icon%22%3A%20%22info-sign%22%2C%20%22iconColor%22%3A%20%22white%22%2C%20%22markerColor%22%3A%20%22blue%22%2C%20%22prefix%22%3A%20%22glyphicon%22%7D%0A%20%20%20%20%20%20%20%20%20%20%20%20%29%3B%0A%20%20%20%20%20%20%20%20%20%20%20%20marker_d118feaee4b84d5f9473a441827fb5ba.setIcon%28icon_360dd08d2102491a93a923c6fd721b12%29%3B%0A%20%20%20%20%20%20%20%20%0A%20%20%20%20%0A%20%20%20%20%20%20%20%20var%20popup_0b861f8b13564dde892b35e7bf1d7270%20%3D%20L.popup%28%7B%22maxWidth%22%3A%20%22100%25%22%7D%29%3B%0A%0A%20%20%20%20%20%20%20%20%0A%20%20%20%20%20%20%20%20%20%20%20%20var%20html_2e1805ff2bdf4d28a141784657409faa%20%3D%20%24%28%60%3Cdiv%20id%3D%22html_2e1805ff2bdf4d28a141784657409faa%22%20style%3D%22width%3A%20100.0%25%3B%20height%3A%20100.0%25%3B%22%3EAntonella%3C/div%3E%60%29%5B0%5D%3B%0A%20%20%20%20%20%20%20%20%20%20%20%20popup_0b861f8b13564dde892b35e7bf1d7270.setContent%28html_2e1805ff2bdf4d28a141784657409faa%29%3B%0A%20%20%20%20%20%20%20%20%0A%0A%20%20%20%20%20%20%20%20marker_d118feaee4b84d5f9473a441827fb5ba.bindPopup%28popup_0b861f8b13564dde892b35e7bf1d7270%29%0A%20%20%20%20%20%20%20%20%3B%0A%0A%20%20%20%20%20%20%20%20%0A%20%20%20%20%0A%20%20%20%20%0A%20%20%20%20%20%20%20%20%20%20%20%20var%20marker_13065e056e9c42508fa144c00989cf1d%20%3D%20L.marker%28%0A%20%20%20%20%20%20%20%20%20%20%20%20%20%20%20%20%5B-12.069412%2C%20-77.023235%5D%2C%0A%20%20%20%20%20%20%20%20%20%20%20%20%20%20%20%20%7B%7D%0A%20%20%20%20%20%20%20%20%20%20%20%20%29.addTo%28map_b1567fdf507b4cceb61cd392f5b51e92%29%3B%0A%20%20%20%20%20%20%20%20%0A%20%20%20%20%0A%20%20%20%20%20%20%20%20%20%20%20%20var%20icon_ff45ae5ae76f4472869fb6a487c4883c%20%3D%20L.AwesomeMarkers.icon%28%0A%20%20%20%20%20%20%20%20%20%20%20%20%20%20%20%20%7B%22extraClasses%22%3A%20%22fa-rotate-0%22%2C%20%22icon%22%3A%20%22info-sign%22%2C%20%22iconColor%22%3A%20%22white%22%2C%20%22markerColor%22%3A%20%22blue%22%2C%20%22prefix%22%3A%20%22glyphicon%22%7D%0A%20%20%20%20%20%20%20%20%20%20%20%20%29%3B%0A%20%20%20%20%20%20%20%20%20%20%20%20marker_13065e056e9c42508fa144c00989cf1d.setIcon%28icon_ff45ae5ae76f4472869fb6a487c4883c%29%3B%0A%20%20%20%20%20%20%20%20%0A%20%20%20%20%0A%20%20%20%20%20%20%20%20var%20popup_ae8f4ce1d15943b5b5c78832fc8debff%20%3D%20L.popup%28%7B%22maxWidth%22%3A%20%22100%25%22%7D%29%3B%0A%0A%20%20%20%20%20%20%20%20%0A%20%20%20%20%20%20%20%20%20%20%20%20var%20html_3fb3be96b37b45ef9a5f2db2e1eb30f8%20%3D%20%24%28%60%3Cdiv%20id%3D%22html_3fb3be96b37b45ef9a5f2db2e1eb30f8%22%20style%3D%22width%3A%20100.0%25%3B%20height%3A%20100.0%25%3B%22%3EJean%20Pierre%3C/div%3E%60%29%5B0%5D%3B%0A%20%20%20%20%20%20%20%20%20%20%20%20popup_ae8f4ce1d15943b5b5c78832fc8debff.setContent%28html_3fb3be96b37b45ef9a5f2db2e1eb30f8%29%3B%0A%20%20%20%20%20%20%20%20%0A%0A%20%20%20%20%20%20%20%20marker_13065e056e9c42508fa144c00989cf1d.bindPopup%28popup_ae8f4ce1d15943b5b5c78832fc8debff%29%0A%20%20%20%20%20%20%20%20%3B%0A%0A%20%20%20%20%20%20%20%20%0A%20%20%20%20%0A%20%20%20%20%0A%20%20%20%20%20%20%20%20%20%20%20%20var%20marker_2353c0f722e24245bbd1a72eaddab753%20%3D%20L.marker%28%0A%20%20%20%20%20%20%20%20%20%20%20%20%20%20%20%20%5B-12.087553%2C%20-77.045918%5D%2C%0A%20%20%20%20%20%20%20%20%20%20%20%20%20%20%20%20%7B%7D%0A%20%20%20%20%20%20%20%20%20%20%20%20%29.addTo%28map_b1567fdf507b4cceb61cd392f5b51e92%29%3B%0A%20%20%20%20%20%20%20%20%0A%20%20%20%20%0A%20%20%20%20%20%20%20%20%20%20%20%20var%20icon_e6fdebc02e274ff9b621c4212f7f803b%20%3D%20L.AwesomeMarkers.icon%28%0A%20%20%20%20%20%20%20%20%20%20%20%20%20%20%20%20%7B%22extraClasses%22%3A%20%22fa-rotate-0%22%2C%20%22icon%22%3A%20%22info-sign%22%2C%20%22iconColor%22%3A%20%22white%22%2C%20%22markerColor%22%3A%20%22blue%22%2C%20%22prefix%22%3A%20%22glyphicon%22%7D%0A%20%20%20%20%20%20%20%20%20%20%20%20%29%3B%0A%20%20%20%20%20%20%20%20%20%20%20%20marker_2353c0f722e24245bbd1a72eaddab753.setIcon%28icon_e6fdebc02e274ff9b621c4212f7f803b%29%3B%0A%20%20%20%20%20%20%20%20%0A%20%20%20%20%0A%20%20%20%20%20%20%20%20var%20popup_5b3f139ecc4c4def943ff692d4d2a587%20%3D%20L.popup%28%7B%22maxWidth%22%3A%20%22100%25%22%7D%29%3B%0A%0A%20%20%20%20%20%20%20%20%0A%20%20%20%20%20%20%20%20%20%20%20%20var%20html_6655a2ff5c124d0e82e722d7f5b19bbf%20%3D%20%24%28%60%3Cdiv%20id%3D%22html_6655a2ff5c124d0e82e722d7f5b19bbf%22%20style%3D%22width%3A%20100.0%25%3B%20height%3A%20100.0%25%3B%22%3EPiero%3C/div%3E%60%29%5B0%5D%3B%0A%20%20%20%20%20%20%20%20%20%20%20%20popup_5b3f139ecc4c4def943ff692d4d2a587.setContent%28html_6655a2ff5c124d0e82e722d7f5b19bbf%29%3B%0A%20%20%20%20%20%20%20%20%0A%0A%20%20%20%20%20%20%20%20marker_2353c0f722e24245bbd1a72eaddab753.bindPopup%28popup_5b3f139ecc4c4def943ff692d4d2a587%29%0A%20%20%20%20%20%20%20%20%3B%0A%0A%20%20%20%20%20%20%20%20%0A%20%20%20%20%0A%3C/script%3E onload=\"this.contentDocument.open();this.contentDocument.write(    decodeURIComponent(this.getAttribute('data-html')));this.contentDocument.close();\" allowfullscreen webkitallowfullscreen mozallowfullscreen></iframe></div></div>"
      ],
      "text/plain": [
       "<folium.folium.Map at 0x23c17eb76d0>"
      ]
     },
     "execution_count": 39,
     "metadata": {},
     "output_type": "execute_result"
    }
   ],
   "source": [
    "import folium\n",
    "m = folium.Map(location = [-12.05,-77.05])\n",
    "markers = {'JJ Bocanegra':[-12.043133, -76.927272],\n",
    "          'Antonella': [-12.016288311750076, -77.0425285000052],\n",
    "          'Jean Pierre' : [-12.069412, -77.023235],\n",
    "          'Piero' : [-12.087553, -77.045918]}\n",
    "\n",
    "for k,v in markers.items():\n",
    "    folium.Marker(location = v,\n",
    "                  popup = k, icon=folium.Icon()).add_to(m)\n",
    "m"
   ]
  },
  {
   "cell_type": "markdown",
   "id": "c3659c6c-292a-4aa2-8c30-c3bec70a01a6",
   "metadata": {},
   "source": [
    "## WebScraaping"
   ]
  },
  {
   "cell_type": "code",
   "execution_count": 22,
   "id": "e9631e96-5aa4-41b7-95d5-c99396c3adfe",
   "metadata": {},
   "outputs": [
    {
     "name": "stdout",
     "output_type": "stream",
     "text": [
      "<!DOCTYPE html>\n",
      "<html class=\"no-js\" lang=\"\">\n",
      "<head>\n",
      "<title>Test - Pagina Web</title>\n",
      "<meta charset=\"utf-8\"/>\n",
      "<link href=\"css/normalize.css\" rel=\"stylesheet\"/>\n",
      "<link href=\"css/main.css\" rel=\"stylesheet\"/>\n",
      "</head>\n",
      "<body>\n",
      "<h1 id=\"site_title\">Test Website</h1>\n",
      "<hr/>\n",
      "<div class=\"article\">\n",
      "<h2><a href=\"article_1.html\">Articulo 1 Encabezado</a></h2>\n",
      "<p>Este es el resumen del articulo 1</p>\n",
      "</div>\n",
      "<hr/>\n",
      "<div class=\"article\">\n",
      "<h2><a href=\"article_2.html\">Articulo 2 Encabezado</a></h2>\n",
      "<p>Este es del resumen del articulo 2</p>\n",
      "</div>\n",
      "<hr/>\n",
      "<div class=\"footer\">\n",
      "<p>Informacion de pie de pagina</p>\n",
      "</div>\n",
      "</body>\n",
      "</html>\n"
     ]
    }
   ],
   "source": [
    "from bs4 import BeautifulSoup\n",
    "\n",
    "with open(\"main.html\") as file:\n",
    "    soup = BeautifulSoup(file,'lxml')\n",
    "\n",
    "print(soup)"
   ]
  },
  {
   "cell_type": "code",
   "execution_count": 5,
   "id": "f89862e7-9850-4af0-b609-11bd0f24f474",
   "metadata": {},
   "outputs": [
    {
     "data": {
      "text/plain": [
       "<title>Test - Pagina Web</title>"
      ]
     },
     "execution_count": 5,
     "metadata": {},
     "output_type": "execute_result"
    }
   ],
   "source": [
    "soup.title"
   ]
  },
  {
   "cell_type": "code",
   "execution_count": 6,
   "id": "2ef62cc7-9d52-4b6d-9883-4f8325a3473e",
   "metadata": {},
   "outputs": [
    {
     "data": {
      "text/plain": [
       "'Test - Pagina Web'"
      ]
     },
     "execution_count": 6,
     "metadata": {},
     "output_type": "execute_result"
    }
   ],
   "source": [
    "soup.title.text"
   ]
  },
  {
   "cell_type": "code",
   "execution_count": 7,
   "id": "f323212f-c5b4-4a6a-a6ba-1f37cb0ca2e0",
   "metadata": {},
   "outputs": [
    {
     "data": {
      "text/plain": [
       "'\\nTest Website\\n\\n\\nArticulo 1 Encabezado\\nEste es el resumen del articulo 1\\n\\n\\n\\nArticulo 2 Encabezado\\nEste es del resumen del articulo 2\\n\\n\\n\\nInformacion de pie de pagina\\n\\n'"
      ]
     },
     "execution_count": 7,
     "metadata": {},
     "output_type": "execute_result"
    }
   ],
   "source": [
    "soup.body.text"
   ]
  },
  {
   "cell_type": "code",
   "execution_count": 8,
   "id": "ea89cc6f-3f7e-439a-8a04-9d531c0bf27a",
   "metadata": {},
   "outputs": [
    {
     "data": {
      "text/plain": [
       "<p>Este es el resumen del articulo 1</p>"
      ]
     },
     "execution_count": 8,
     "metadata": {},
     "output_type": "execute_result"
    }
   ],
   "source": [
    "soup.body.p"
   ]
  },
  {
   "cell_type": "code",
   "execution_count": 12,
   "id": "c23b86a3-4af6-47e9-a507-753a698d491c",
   "metadata": {},
   "outputs": [
    {
     "data": {
      "text/plain": [
       "<a href=\"article_1.html\">Articulo 1 Encabezado</a>"
      ]
     },
     "execution_count": 12,
     "metadata": {},
     "output_type": "execute_result"
    }
   ],
   "source": [
    "soup.a"
   ]
  },
  {
   "cell_type": "code",
   "execution_count": 11,
   "id": "e0985095-d831-4f17-b7f8-b10b753b5fd0",
   "metadata": {},
   "outputs": [
    {
     "data": {
      "text/plain": [
       "'article_1.html'"
      ]
     },
     "execution_count": 11,
     "metadata": {},
     "output_type": "execute_result"
    }
   ],
   "source": [
    "soup.a['href']"
   ]
  },
  {
   "cell_type": "code",
   "execution_count": 13,
   "id": "27a0ff84-5407-4dbc-960c-4a48e3470c78",
   "metadata": {},
   "outputs": [
    {
     "data": {
      "text/plain": [
       "'Articulo 1 Encabezado'"
      ]
     },
     "execution_count": 13,
     "metadata": {},
     "output_type": "execute_result"
    }
   ],
   "source": [
    "soup.a.text"
   ]
  },
  {
   "cell_type": "code",
   "execution_count": 16,
   "id": "37649230-ad87-4e91-b1ee-c7aef6cc4384",
   "metadata": {},
   "outputs": [
    {
     "data": {
      "text/plain": [
       "<a href=\"article_2.html\">Articulo 2 Encabezado</a>"
      ]
     },
     "execution_count": 16,
     "metadata": {},
     "output_type": "execute_result"
    }
   ],
   "source": [
    "soup.find('a', attrs={'href':'article_2.html'})"
   ]
  },
  {
   "cell_type": "code",
   "execution_count": 20,
   "id": "2e19739e-eeac-4780-9c25-41c0704d6f91",
   "metadata": {},
   "outputs": [
    {
     "data": {
      "text/plain": [
       "[<div class=\"article\">\n",
       " <h2><a href=\"article_1.html\">Articulo 1 Encabezado</a></h2>\n",
       " <p>Este es el resumen del articulo 1</p>\n",
       " </div>,\n",
       " <div class=\"article\">\n",
       " <h2><a href=\"article_2.html\">Articulo 2 Encabezado</a></h2>\n",
       " <p>Este es del resumen del articulo 2</p>\n",
       " </div>]"
      ]
     },
     "execution_count": 20,
     "metadata": {},
     "output_type": "execute_result"
    }
   ],
   "source": [
    "soup.find_all('div', attrs={'class':'article'})"
   ]
  },
  {
   "cell_type": "code",
   "execution_count": 21,
   "id": "63d21a42-fcad-4601-a17f-6b4191a64e67",
   "metadata": {},
   "outputs": [
    {
     "name": "stdout",
     "output_type": "stream",
     "text": [
      "<div class=\"article\">\n",
      "<h2><a href=\"article_1.html\">Articulo 1 Encabezado</a></h2>\n",
      "<p>Este es el resumen del articulo 1</p>\n",
      "</div>\n",
      "<div class=\"article\">\n",
      "<h2><a href=\"article_2.html\">Articulo 2 Encabezado</a></h2>\n",
      "<p>Este es del resumen del articulo 2</p>\n",
      "</div>\n"
     ]
    }
   ],
   "source": [
    "for item in soup.find_all('div', attrs={'class':'article'}):\n",
    "    print(item)"
   ]
  }
 ],
 "metadata": {
  "kernelspec": {
   "display_name": "Python 3 (ipykernel)",
   "language": "python",
   "name": "python3"
  },
  "language_info": {
   "codemirror_mode": {
    "name": "ipython",
    "version": 3
   },
   "file_extension": ".py",
   "mimetype": "text/x-python",
   "name": "python",
   "nbconvert_exporter": "python",
   "pygments_lexer": "ipython3",
   "version": "3.8.11"
  }
 },
 "nbformat": 4,
 "nbformat_minor": 5
}
