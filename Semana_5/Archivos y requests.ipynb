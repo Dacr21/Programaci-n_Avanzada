{
 "cells": [
  {
   "cell_type": "markdown",
   "source": [
    "# Archivos e información de la web con `requests`\n",
    "\n",
    "<img src=\"https://vivaldi.com/wp-content/uploads/Quickly-search-for-information-online.png\" alt=\"Hello Python!\" style=\"width:600px;height:300px;\">\n",
    "\n",
    "Fuente: [Vivaldi browser](https://vivaldi.com/wp-content/uploads/Quickly-search-for-information-online.png)\n",
    "\n",
    "El insumo de todo sistema informático son los datos. Transformar los datos (es decir, indicadores cuantitativos o cualitativos) en información (es decir, elementos para la toma de decisiones) es el resultado de procesar los datos or un algoritmo. El corazon de este curso es el análisis de los datos y debemos partir de las fuentes: en este caso, los archivos con información útil y donde encontrarlos: la Web.\n",
    "\n",
    "<div style=\"text-align: right\"> Luis A. Muñoz </div>\n",
    "\n",
    "---"
   ],
   "metadata": {}
  },
  {
   "cell_type": "markdown",
   "source": [
    "## Tipos de archivos\n",
    "De distinguen dos tipos de archivos:\n",
    "    \n",
    "* Archivos de texto\n",
    "* Archivos binarios\n",
    "\n",
    "Los primeros son una colección de datos con un formato específico: caracteres codificados según un estándar (actualmente, UTF-8 para soportar todos los caracteres internacionales). Los últmos son datos binarios con un formato propietario. Por ejemplo, el código Python es un archivo de texto, mientras que un documento en Word es un archivo binario.\n",
    "\n",
    "En los usuarios de Windows suele haber mucha confusión al momento de entender que un archivo de texto es un archivo con información en forma de caracteres de texto y nada más, sin ninguna relación con la extensión que tenga el archivo. Un archivo que tenga la extensión `.txt` no es un archivo de texto: es un archivo que Windows intentará abrir con el Bloc de Notas y si es un archivo de texto se abrirá sin inconvenientes.\n",
    "\n",
    "En Linux, los archivos no tienen extensiones y es más fácil evitar estas confusiones.\n",
    "\n",
    "Por lo tanto, la diferencia entre ambos tipos de archivos es una cuestión de formato. En Python, esto se especifica según el modo de lectura:\n",
    "\n",
    "* Archivos de texto: mode='r'    (lectura)\n",
    "* Archivos de datos: mode='rb'   (lectura binaria)"
   ],
   "metadata": {}
  },
  {
   "cell_type": "markdown",
   "source": [
    "## Filesystem\n",
    "El *filesystem* es la organización de los datos en el medio de almacenamiento por parte del sistema operativo. Para trabajar con soltura con archivos hay manejarse tambien así con el *filesystem*. En Windows, Linux y OS X, los archivos se organizan en un árbol de directorios que cuelgan de un nodo principal o archivo *root* (*C:\\* en Windows en caso del disco con esta etiqueta, o */.* en el caso de OSX o Linux). Todos los archivos estan ubicados en un sitio especifico dentro del *filesystem* y la forma de especificar esta dirección es con una ruta o *path*.\n",
    "\n",
    "Por ejemplo, el archivo *proyecto1.py* puede estar alojado en la ruta *C:\\Usuarios\\elvio\\Documentos*\n",
    "\n",
    "NOTA: Los ejemplos de este documento estan hechos para ser ejecutdos en un equipo con Windows. Si tiene un sistema operativo diferente, reemplace \"C:\\\" por \"/\""
   ],
   "metadata": {}
  },
  {
   "cell_type": "markdown",
   "source": [
    "## La librería `os`\n",
    "Una complicación con los sistemas operativos es que para especificar el path Windows utiliza \"\\\\\" y Linux y OS X utilizan \"/\". Afortunadamente, la librería `os` viene a solucionarnos este y otros problemas:"
   ],
   "metadata": {}
  },
  {
   "cell_type": "code",
   "execution_count": 2,
   "source": [
    "import os\r\n",
    "\r\n",
    "os.path.join(\"Usuarios\", \"elvio\", \"Documentos\")"
   ],
   "outputs": [
    {
     "output_type": "execute_result",
     "data": {
      "text/plain": [
       "'Usuarios\\\\elvio\\\\Documentos'"
      ]
     },
     "metadata": {},
     "execution_count": 2
    }
   ],
   "metadata": {}
  },
  {
   "cell_type": "markdown",
   "source": [
    "En diferentes SO el resultado será compatible con el sistema (note que Windows utiliza \"\\\\\\\\\" para especificar que el caracter \"\\\" no es parte de un caracter de escape como \"\\n\"). Esto resulta util para crear rutas sobre los archivos en los que se quiere trabajar:"
   ],
   "metadata": {}
  },
  {
   "cell_type": "code",
   "execution_count": 3,
   "source": [
    "files = ['proyecto1.py', 'proyecto2.py', 'proyecto3.py']\r\n",
    "\r\n",
    "for filename in files:\r\n",
    "    print(os.path.join(\"C:\\\\Users\\\\elvio\\\\Documents\", filename))"
   ],
   "outputs": [
    {
     "output_type": "stream",
     "name": "stdout",
     "text": [
      "C:\\Users\\elvio\\Documents\\proyecto1.py\n",
      "C:\\Users\\elvio\\Documents\\proyecto2.py\n",
      "C:\\Users\\elvio\\Documents\\proyecto3.py\n"
     ]
    }
   ],
   "metadata": {}
  },
  {
   "cell_type": "markdown",
   "source": [
    "Otra información útil es saber en que parte del filesystem nos encontramos. Esto es, cual es el directorio actual de trabajo (o *current working directory*) con `getcwd`:"
   ],
   "metadata": {}
  },
  {
   "cell_type": "code",
   "execution_count": 111,
   "source": [
    "ruta_home = os.getcwd()\r\n",
    "print(ruta_home)"
   ],
   "outputs": [
    {
     "output_type": "stream",
     "name": "stdout",
     "text": [
      "C:\\Users\\lmuno\\OneDrive - Universidad Peruana de Ciencias\\EL184 - Prog Avanzada de Computadoras\n"
     ]
    }
   ],
   "metadata": {}
  },
  {
   "cell_type": "markdown",
   "source": [
    "Podemos movernos a otra ubicación en el filesystem con `chdir`:"
   ],
   "metadata": {}
  },
  {
   "cell_type": "code",
   "execution_count": 18,
   "source": [
    "os.chdir(\"C:\\\\Windows\\\\System32\")\r\n",
    "print(os.getcwd())"
   ],
   "outputs": [
    {
     "output_type": "stream",
     "name": "stdout",
     "text": [
      "C:\\Windows\\System32\n"
     ]
    }
   ],
   "metadata": {}
  },
  {
   "cell_type": "markdown",
   "source": [
    "Existen dos formas de especificar una ruta: *ruta relativa* y *ruta absoluta*. La primera especifica la ubicación de un archivo respecto a la ubicación actual, mientras que la última especifica la ubicación de un archivo respecto del directorio *root*.\n",
    "\n",
    "* Ruta relativa: *.\\\\proyecto1.py*\n",
    "* Ruta absoluta: *C:\\\\Usuarios\\\\elvio\\\\Documentos\\\\proyecto1.py\"*\n",
    "\n",
    "Por otro lado, tambien se tienen los archivos \".\" y \"..\" en un directorio. Estas son etiquetas del directorio actual y del directorio padre. Por ejemplo:"
   ],
   "metadata": {}
  },
  {
   "cell_type": "code",
   "execution_count": 8,
   "source": [
    "os.chdir(\".\")\r\n",
    "print(os.getcwd())"
   ],
   "outputs": [
    {
     "output_type": "stream",
     "name": "stdout",
     "text": [
      "C:\\Windows\\System32\n"
     ]
    }
   ],
   "metadata": {}
  },
  {
   "cell_type": "code",
   "execution_count": 9,
   "source": [
    "os.chdir(\"..\")\r\n",
    "print(os.getcwd())"
   ],
   "outputs": [
    {
     "output_type": "stream",
     "name": "stdout",
     "text": [
      "C:\\Windows\n"
     ]
    }
   ],
   "metadata": {}
  },
  {
   "cell_type": "markdown",
   "source": [
    "### Creando directorios\n",
    "Vamos a alejarnos de todo lo que diga \"Windows\" si no queremos borrar nada... vamos a crear un directorio de prueba en C: con `os.makedirs`. Este método puede crear todos los directorios de una ruta específica. Vamos a utilizar `os.path.exists` para validar si el directorio existe o no antes de crear uno nuevo"
   ],
   "metadata": {}
  },
  {
   "cell_type": "code",
   "execution_count": 30,
   "source": [
    "for i in range(12):\r\n",
    "    if not os.path.exists(f\"C:\\\\test\\\\test{i+1}\"): \r\n",
    "        os.makedirs(f\"C:\\\\test\\\\test{i+1}\")\r\n"
   ],
   "outputs": [],
   "metadata": {}
  },
  {
   "cell_type": "markdown",
   "source": [
    "Ubiquemonos en el directorio `test`"
   ],
   "metadata": {}
  },
  {
   "cell_type": "code",
   "execution_count": 31,
   "source": [
    "os.chdir(\"C:\\\\test\")\r\n",
    "print(os.getcwd())"
   ],
   "outputs": [
    {
     "output_type": "stream",
     "name": "stdout",
     "text": [
      "C:\\test\n"
     ]
    }
   ],
   "metadata": {}
  },
  {
   "cell_type": "markdown",
   "source": [
    "Veamos el contenido del directorio \"C:\\\\test\":"
   ],
   "metadata": {}
  },
  {
   "cell_type": "code",
   "execution_count": 35,
   "source": [
    "print(os.listdir(\".\"))"
   ],
   "outputs": [
    {
     "output_type": "stream",
     "name": "stdout",
     "text": [
      "['test1', 'test10', 'test11', 'test12', 'test2', 'test3', 'test4', 'test5', 'test6', 'test7', 'test8', 'test9', 'test_txt.txt']\n"
     ]
    }
   ],
   "metadata": {}
  },
  {
   "cell_type": "markdown",
   "source": [
    "## Archivos de texto\n",
    "La forma más sencilla de crear un archivo de texto es abriendo un archivo con el Context Manager `with`:"
   ],
   "metadata": {}
  },
  {
   "cell_type": "code",
   "execution_count": 49,
   "source": [
    "with open(\"readme.txt\", mode='w', encoding='utf-8') as file:\r\n",
    "    file.write(\"INSTRUCCIONES\\n\")\r\n",
    "    file.write(\"=============\\n\\n\")\r\n",
    "    file.write(\"En los directorios se tienen diferentes test a ser distribuidos\\n\")\r\n",
    "    file.write(\"entre los diferentes alumnos\")"
   ],
   "outputs": [],
   "metadata": {}
  },
  {
   "cell_type": "markdown",
   "source": [
    "Esto debe de generar un archivo de texto. Haciendo un listado del direcorio se debe de observar el resultado:"
   ],
   "metadata": {}
  },
  {
   "cell_type": "code",
   "execution_count": 50,
   "source": [
    "for item in os.listdir(\".\"):\r\n",
    "    # Si la ruta es un direcotrio se muestra el nombre\r\n",
    "    if os.path.isdir(item):\r\n",
    "        print(item)\r\n",
    "    #Si la ruta es un archivo muestra su nombre y tu tamaño en bytes\r\n",
    "    elif os.path.isfile(item):\r\n",
    "        print(item, \"    \", os.path.getsize(item), \"bytes\")"
   ],
   "outputs": [
    {
     "output_type": "stream",
     "name": "stdout",
     "text": [
      "readme.txt      125 bytes\n",
      "test1\n",
      "test10\n",
      "test11\n",
      "test12\n",
      "test2\n",
      "test3\n",
      "test4\n",
      "test5\n",
      "test6\n",
      "test7\n",
      "test8\n",
      "test9\n"
     ]
    }
   ],
   "metadata": {}
  },
  {
   "cell_type": "markdown",
   "source": [
    "Para leer un archivo de texto, lo más conveniente es abrir un archivo en un bloque `with` y tratar el archivo como un iterable:"
   ],
   "metadata": {}
  },
  {
   "cell_type": "code",
   "execution_count": 51,
   "source": [
    "with open(\"readme.txt\", mode='r', encoding='utf-8') as file:\r\n",
    "    for line in file:\r\n",
    "        print(line.strip())    # No olvidar strip() para eliminar \"\\n\""
   ],
   "outputs": [
    {
     "output_type": "stream",
     "name": "stdout",
     "text": [
      "INSTRUCCIONES\n",
      "=============\n",
      "\n",
      "En los directorios se tienen diferentes test a ser distribuidos\n",
      "entre los diferentes alumnos\n"
     ]
    }
   ],
   "metadata": {}
  },
  {
   "cell_type": "markdown",
   "source": [
    "Los archivos de texto no resultan ser muy utiles porque no tienen un formato que pueda ser interpretado por una computadora. Es basicamente información legible para una persona, por lo que su uso será el de guardar información simple o tabulada. Sin embargo, si podemos hacer scripts que generen documentos a partir de información. Por ejemplo, generemos unos tests para unos doce alumnos que guardaremos en las diferentes carpetas que hemos creado de forma automática:"
   ],
   "metadata": {}
  },
  {
   "cell_type": "code",
   "execution_count": 77,
   "source": [
    "# GENERADOR DE ARCHIVOS DE PREGUNTAS PARA UN CUESTIONARIO\r\n",
    "import random\r\n",
    "\r\n",
    "capitales = {\"Amazonas\": \"Chachapoyas\", \r\n",
    "             \"Áncash\": \"Huaraz\",\r\n",
    "             \"Apurímac\": \"Abancay\",\r\n",
    "             \"Arequipa\": \"Arequipa\",\r\n",
    "             \"Ayacucho\": \"Ayacucho\",\r\n",
    "             \"Cajamarca\": \"Cajamarca\",\r\n",
    "             \"Cusco\": \"Cusco\",\r\n",
    "             \"Huancavelica\": \"Huancavelica\",\r\n",
    "             \"Huánuco\": \"Huánuco\",\r\n",
    "             \"Ica\": \"Ica\",\r\n",
    "             \"Junín\": \"Huancayo\",\r\n",
    "             \"La Libertad\": \"Trujillo\",\r\n",
    "             \"Lambayeque\": \"Chiclayo\",\r\n",
    "             \"Lima\": \"Lima\",\r\n",
    "             \"Loreto\": \"Iquitos\",\r\n",
    "             \"Madre de Dios\": \"Puerto Maldonado\",\r\n",
    "             \"Moquegua\": \"Moquegua\",\r\n",
    "             \"Pasco\": \"Cerro de Pasco\",\r\n",
    "             \"Piura\": \"Piura\",\r\n",
    "             \"Puno\": \"Puno\",\r\n",
    "             \"San Martín\": \"Moyobamba\",\r\n",
    "             \"Tacna\": \"Tacna\",\r\n",
    "             \"Tumbes\": \"Tumbes\",\r\n",
    "             \"Ucayali\": \"Pucallpa\"}\r\n",
    "\r\n",
    "# Se generan los 12 archivos de examenes\r\n",
    "for quizNum in range(1, 13):\r\n",
    "    # Se generan los nombres de los arvhivos de test en cada directorio y el de respuestas correctas\r\n",
    "    quizFileName = os.path.join(f\"C:\\\\test\\\\test{quizNum}\", f\"text{quizNum}.txt\")\r\n",
    "    answerKeyFileName = os.path.join(f\"C:\\\\test\\\\test{quizNum}\", f\"test{quizNum}_answers.txt\")\r\n",
    "    \r\n",
    "    # Se abren ambos archivos para su generación\r\n",
    "    with open(quizFileName, mode='w', encoding='utf-8') as quizFile:\r\n",
    "        with open(answerKeyFileName, mode='w', encoding='utf-8') as answerKeyFile:\r\n",
    "            # Se crea un encabezado en el archivo de test\r\n",
    "            quizFile.write(\"Nombre:\\n\\nFecha:\\n\\nPeriodo:\\n\\n\")\r\n",
    "            quizFile.write(' ' * 20 + f\"Capitales por departamento - Test {quizNum}\\n\\n\")\r\n",
    "\r\n",
    "            # Se obtiene una lista con las capitales por departamento\r\n",
    "            # y se desordena la muestra\r\n",
    "            departamentos = list(capitales.keys())\r\n",
    "            random.shuffle(departamentos)\r\n",
    "\r\n",
    "            # Para cada uno de los departamentos...\r\n",
    "            for idx, departamento in enumerate(departamentos, start=1):\r\n",
    "                # Se guarda la respuesta correcta (capital del departamento)\r\n",
    "                correctAnswer = capitales.get(departamento)\r\n",
    "                # Se guarda una lista con todas las capitales y se elimina la correcta\r\n",
    "                wrongAnswers = list(capitales.values())\r\n",
    "                del wrongAnswers[wrongAnswers.index(correctAnswer)]\r\n",
    "                # Se obtiene una muestra aleatoria de 3 respuestas aleatorias + la correcta\r\n",
    "                wrongAnswers = random.sample(wrongAnswers, 3)\r\n",
    "                answerOptions = wrongAnswers + [correctAnswer]\r\n",
    "                # Se desordenan las opciones de respuesta\r\n",
    "                random.shuffle(answerOptions)\r\n",
    "\r\n",
    "                # Escribimos la pregunta en el test\r\n",
    "                quizFile.write(f\"{idx}. ¿Cuál es la capital de {departamento}?:\\n\")\r\n",
    "\r\n",
    "                for letter, answer in zip('ABCD', answerOptions):\r\n",
    "                    quizFile.write(f\"\\t{letter}. {answer}\\n\")\r\n",
    "                else:\r\n",
    "                    quizFile.write('\\n')\r\n",
    "\r\n",
    "                # Escribirmos la respuesta en el archivo de respuestas\r\n",
    "                answerKeyFile.write(f\"{idx}. {'ABCD'[answerOptions.index(correctAnswer)]}\\n\")\r\n"
   ],
   "outputs": [],
   "metadata": {}
  },
  {
   "cell_type": "markdown",
   "source": [
    "## Tip: librería `shelve`\n",
    "Si lo que se quiere es guardar las variables de una programa de forma rápida existe una forma de hacerlo: la librería `shelve`."
   ],
   "metadata": {}
  },
  {
   "cell_type": "code",
   "execution_count": 89,
   "source": [
    "import shelve\r\n",
    "\r\n",
    "# Guardando datos en un archivo shelve\r\n",
    "datos = [1, 2, 3, 4, 5]\r\n",
    "\r\n",
    "with shelve.open('mis_datos') as shelve_file:\r\n",
    "    shelve_file['datos'] = datos"
   ],
   "outputs": [],
   "metadata": {}
  },
  {
   "cell_type": "markdown",
   "source": [
    "Para guardar datos utilizando `shelve` se abre un archivo al que llamaremos `mis_datos` en un bloque `with` con la instrucción `shelve.open()`. Una vez abierto, se trata este archivo como un diccionario, donde la llave será un `str` con el nombre de la variable a almacenar y el valor será la variable misma. Si revisa le ruta actual, vera que hay unos archivos con el nombre `mis_datos` con extensión `bak`, `dat` y `dir`. Intente abrirlos con un editor... no va a encontrar registros de la información. Pero podemos traerla de vuelta."
   ],
   "metadata": {}
  },
  {
   "cell_type": "code",
   "execution_count": 90,
   "source": [
    "# Borremos la variable datos...\r\n",
    "del datos\r\n",
    "\r\n",
    "# ...y la recuperamos del archivo \r\n",
    "with shelve.open(\"mis_datos\") as shelve_file:\r\n",
    "    datos = shelve_file['datos']\r\n",
    "    \r\n",
    "print(datos)"
   ],
   "outputs": [
    {
     "output_type": "stream",
     "name": "stdout",
     "text": [
      "[1, 2, 3, 4, 5]\n"
     ]
    }
   ],
   "metadata": {}
  },
  {
   "cell_type": "markdown",
   "source": [
    "¡Facil, sencillo y seguro!"
   ],
   "metadata": {}
  },
  {
   "cell_type": "markdown",
   "source": [
    "## Archivos CSV\n",
    "Un archivo CSV es un archivo de texto con un formato estándar. En este, los valores se guardan como valores de texto, separados por algun separador, usualmente una coma (\",\") de donde viene el nombre Comma Separated Value, aunque puede ser un espacio en blanco, un tabulador (\"\\t\") o un punto y coma (\";\").\n",
    "\n",
    "Los archivos CSV son reconocidos por las Hojas de Cálculo como Excel y ordena los datos por columnas utilizando el caracter de separación. Hay que tomar en consideración que en los países donde se utiliza la \",\" como separador de miles, se debe de utilizar el \";\" para un archivo CSV que sea reconocido por Excel. Al final, un archivo CSV es una Hoja de Cálculo simplificada, sin pestañas ni fórmulas.\n",
    "\n",
    "Hay otro detalle a considerar: un CSV no se puede manipular como un archivo de texto al que lo podemos seprar utilizando `split(',')` ya que no todas las comas son separadores. Un CSV también tiene sus propios caracteres de escape, lo que permite que una coma pueda ser parte de los valores (como en el caso de un número escrito con la forma 1,200). Esa es la razón por la que siempre hay que usar la librería `csv` para escribir un archivo CSV.\n",
    "\n",
    "Los marcadores de personal suelen generar archivos CSV diarios. Vamos a generar una simulación de esto:"
   ],
   "metadata": {}
  },
  {
   "cell_type": "code",
   "execution_count": 117,
   "source": [
    "empleados = [[\"6/6/2020 07:20\", \"Elvio Lado\"], \r\n",
    "             [\"6/6/2020 07:22\", \"Elmer Curio\"], \r\n",
    "             [\"6/6/2020 07:30\", \"Elba Lazo\"], \r\n",
    "             [\"6/6/2020 07:36\", \"Susana Oria\"], \r\n",
    "             [\"6/6/2020 07:49\", \"Armando Paredes\"]]\r\n",
    "\r\n",
    "# Regresemos a la ruta de este documento\r\n",
    "os.chdir(ruta_home)"
   ],
   "outputs": [],
   "metadata": {}
  },
  {
   "cell_type": "markdown",
   "source": [
    "Para almacenar estos datos como un archivo CSV en Windows (y solo en Windows) hay un recordar establecer el parametro `newline=''` para evitar que se generen líneas en blanco entre los registros (esto por razones técnicas que estan detalladas [aqui](https://docs.python.org/3/library/csv.html#id3))."
   ],
   "metadata": {}
  },
  {
   "cell_type": "code",
   "execution_count": 115,
   "source": [
    "import csv\r\n",
    "\r\n",
    "with open(\"entrada.csv\", mode='w', newline='') as csv_file:\r\n",
    "    writer = csv.writer(csv_file, delimiter=';')\r\n",
    "    writer.writerow([\"HORA\", \"EMPLEADO\"])\r\n",
    "    \r\n",
    "    for registro in empleados:\r\n",
    "        writer.writerow(registro)\r\n",
    "        \r\n",
    "print(\"Archivo generado:\", os.path.abspath(\"entrada.csv\"))"
   ],
   "outputs": [
    {
     "output_type": "stream",
     "name": "stdout",
     "text": [
      "Archivo generado: C:\\Users\\lmuno\\OneDrive - Universidad Peruana de Ciencias\\EL184 - Prog Avanzada de Computadoras\\entrada.csv\n"
     ]
    }
   ],
   "metadata": {}
  },
  {
   "cell_type": "markdown",
   "source": [
    "En el código anterior hay algunos detalles a considerar:\n",
    "    \n",
    "* Se utiliza el parametro `newline=''` por ser Windows. En otro sistema operativo esta opción no se coloca\n",
    "* Se establece un objeto `csv.writer` sobre el archivo abierto para escribir sobre este.\n",
    "* En el writer se define el tipo de separador como \";\" para que sea compatible con Excel (por defecto es \",\")\n",
    "* Se esta utilizando el método `writerow(registro)` para escribir los registros. También se pudo haber llamado al método `writerows(empleados)`\n",
    "* Se escribe una lista con los nombres de las columnas de los datos. Esto es el encabezado\n",
    "* Se esta obteniendo la ruta absoluta del archivo generado con `os.path.abspath` para saber donde esta ubicado el archivo generado\n",
    "\n",
    "Si todo esta bien, podrá abrir el archivo desde Excel."
   ],
   "metadata": {}
  },
  {
   "cell_type": "markdown",
   "source": [
    "JupyterLab tiene un visor de archivos CSV. Pruebe abrir el archivo desde el navegador de archivos a la izquierda para ver la información tabulada y podrá seleccionar el tipo de delimitador."
   ],
   "metadata": {}
  },
  {
   "cell_type": "markdown",
   "source": [
    "Ahora, leamos el archivo:"
   ],
   "metadata": {}
  },
  {
   "cell_type": "code",
   "execution_count": 116,
   "source": [
    "import csv\r\n",
    "\r\n",
    "with open(\"C:\\\\test\\\\entrada.csv\") as file:\r\n",
    "    reader = csv.reader(file, delimiter=';')\r\n",
    "    next(reader)      # Con esto pasamos a la siguiente linea: eliminamos el encabezado\r\n",
    "    \r\n",
    "    for line in reader:\r\n",
    "        print(f\"* Nombre: {line[1]:20} Hora de ingreso: {line[0]}\")"
   ],
   "outputs": [
    {
     "output_type": "stream",
     "name": "stdout",
     "text": [
      "* Nombre: Elmer Curio          Hora de ingreso: 6/6/2020 07:22\n",
      "* Nombre: Elba Lazo            Hora de ingreso: 6/6/2020 07:30\n",
      "* Nombre: Susana Oria          Hora de ingreso: 6/6/2020 07:36\n",
      "* Nombre: Armando Paredes      Hora de ingreso: 6/6/2020 07:49\n"
     ]
    }
   ],
   "metadata": {}
  },
  {
   "cell_type": "markdown",
   "source": [
    "Detalles a considerar del código anterior:\n",
    "\n",
    "* No es necesario especificar `newline=''`. Esto es solo para escirbir un archivo CSV\n",
    "* No se especifica el modo al momento de abrir el archivo. El modo por defecto es lectura\n",
    "* Se especifica un `csv.reader` para retornar una lista de datos a partir de cada línea de texto\n",
    "* Se especifica el tipo de separador en el reader.\n",
    "* Se estan utilizando los indices de la lista (en este caso, `line`) para mostrar los resultados.\n"
   ],
   "metadata": {}
  },
  {
   "cell_type": "markdown",
   "source": [
    "## Archivos JSON\n",
    "Un archivo JSON (nadie sabe a ciencia cierta como se pronuncia eso pero esta generalizado utilizar \"Jason\") es un archivo con un formato más complejo. Es, al final, un diccionario almacenado. Para gestionar este tipo de archivos utilizaremos el módulo `json`. \n",
    "\n",
    "Ampliemos el caso del registro de entrada con más datos, esta vez estructurados como un diccionario:"
   ],
   "metadata": {}
  },
  {
   "cell_type": "code",
   "execution_count": 118,
   "source": [
    "empleados = [{\"ingreso\": \"6/6/2020 07:20\", \"salida\": \"6/6/2020 19:30\", \"nombre\": \"Elvio Lado\"}, \r\n",
    "             {\"ingreso\": \"6/6/2020 07:22\", \"salida\": \"6/6/2020 18:50\", \"nombre\": \"Elmer Curio\"}, \r\n",
    "             {\"ingreso\": \"6/6/2020 07:30\", \"salida\": \"6/6/2020 19:10\", \"nombre\": \"Elba Lazo\"}, \r\n",
    "             {\"ingreso\": \"6/6/2020 07:36\", \"salida\": \"6/6/2020 20:10\", \"nombre\": \"Susana Oria\"}, \r\n",
    "             {\"ingreso\": \"6/6/2020 07:49\", \"salida\": \"6/6/2020 17:59\", \"nombre\": \"Armando Paredes\"}]"
   ],
   "outputs": [],
   "metadata": {}
  },
  {
   "cell_type": "markdown",
   "source": [
    "Esta vez tenemos una lista de registros, donde cada registro es un diccionario. Esta estructura la podemos almacenar tal cual en formato JSON. Para volcar los datos a un archivo JSON se utiliza el método `json.dump(data, file)`:"
   ],
   "metadata": {}
  },
  {
   "cell_type": "code",
   "execution_count": 121,
   "source": [
    "import json\r\n",
    "\r\n",
    "with open(\"marca_dia.json\", mode='w') as json_file:\r\n",
    "    json.dump(empleados, json_file)"
   ],
   "outputs": [],
   "metadata": {}
  },
  {
   "cell_type": "markdown",
   "source": [
    "Si se abre un archvio JSON en un Bloc de Notas verá una lista con diccionarios escrita como un texto. Pero un visualizador de archvios JSON mostrará un resultado diferente. Pruebe abriendo el archivo en JupyterLab y verá la estructura de la información."
   ],
   "metadata": {}
  },
  {
   "cell_type": "markdown",
   "source": [
    "La lectura de un archivo JSON utiliza el método `json.load(file)`:"
   ],
   "metadata": {}
  },
  {
   "cell_type": "code",
   "execution_count": 122,
   "source": [
    "with open(\"marca_dia.json\") as json_file:\r\n",
    "    data = json.load(json_file)\r\n",
    "    \r\n",
    "print(data)"
   ],
   "outputs": [
    {
     "output_type": "stream",
     "name": "stdout",
     "text": [
      "[{'ingreso': '6/6/2020 07:20', 'salida': '6/6/2020 19:30', 'nombre': 'Elvio Lado'}, {'ingreso': '6/6/2020 07:22', 'salida': '6/6/2020 18:50', 'nombre': 'Elmer Curio'}, {'ingreso': '6/6/2020 07:30', 'salida': '6/6/2020 19:10', 'nombre': 'Elba Lazo'}, {'ingreso': '6/6/2020 07:36', 'salida': '6/6/2020 20:10', 'nombre': 'Susana Oria'}, {'ingreso': '6/6/2020 07:49', 'salida': '6/6/2020 17:59', 'nombre': 'Armando Paredes'}]\n"
     ]
    }
   ],
   "metadata": {}
  },
  {
   "cell_type": "markdown",
   "source": [
    "## Tip: Como imprimir un diccionario bien\n",
    "El resultado anterior es, por decir algo, bastante feo. Hay una forma de imprimir un diccionario de forma estética valiéndose del módulo `json`, en este caso del método `json.dumps(data)` (la 's' en dump*s* es por 'string'), que toma un diccionario (o una estructura JSON que viene a ser lo mismo) y hace un volcado sobre un string que puede tener un fomato:"
   ],
   "metadata": {}
  },
  {
   "cell_type": "code",
   "execution_count": 124,
   "source": [
    "print(json.dumps(data, indent=4))    # indent es el número de espacios para la sangría de niveles"
   ],
   "outputs": [
    {
     "output_type": "stream",
     "name": "stdout",
     "text": [
      "[\n",
      "    {\n",
      "        \"ingreso\": \"6/6/2020 07:20\",\n",
      "        \"salida\": \"6/6/2020 19:30\",\n",
      "        \"nombre\": \"Elvio Lado\"\n",
      "    },\n",
      "    {\n",
      "        \"ingreso\": \"6/6/2020 07:22\",\n",
      "        \"salida\": \"6/6/2020 18:50\",\n",
      "        \"nombre\": \"Elmer Curio\"\n",
      "    },\n",
      "    {\n",
      "        \"ingreso\": \"6/6/2020 07:30\",\n",
      "        \"salida\": \"6/6/2020 19:10\",\n",
      "        \"nombre\": \"Elba Lazo\"\n",
      "    },\n",
      "    {\n",
      "        \"ingreso\": \"6/6/2020 07:36\",\n",
      "        \"salida\": \"6/6/2020 20:10\",\n",
      "        \"nombre\": \"Susana Oria\"\n",
      "    },\n",
      "    {\n",
      "        \"ingreso\": \"6/6/2020 07:49\",\n",
      "        \"salida\": \"6/6/2020 17:59\",\n",
      "        \"nombre\": \"Armando Paredes\"\n",
      "    }\n",
      "]\n"
     ]
    }
   ],
   "metadata": {}
  },
  {
   "cell_type": "markdown",
   "source": [
    "Armando Paredes en quien llega último y se va primero..."
   ],
   "metadata": {}
  },
  {
   "cell_type": "markdown",
   "source": [
    "## `requests` o como obtener información de la web (JSON)\n",
    "Python tiene una librería en la Biblioteca Estándar llamada `urllib` que pemite hacer consultas html que es mejor olvidar que existe. Es de esas cosas que se colocan debajo de la alformbra. Kenneth Reitz le hizo un favor a la comunidad de Python desarrollando la librería `requests` que es hoy la forma más sencilla de realizar requerimientos a un recursos web.\n",
    "\n",
    "Esta libreria debe de instalarse por medio del gestor de paquetes pip, que descarga e instala packetes disponibles en el Python Packages Index (PyPI). Se puede utilizar el caracter \"!\" en una celda en un documento Jupyter para ejecutar comandos de consola."
   ],
   "metadata": {}
  },
  {
   "cell_type": "code",
   "execution_count": 126,
   "source": [
    "!pip install requests"
   ],
   "outputs": [
    {
     "output_type": "stream",
     "name": "stdout",
     "text": [
      "Requirement already satisfied: requests in c:\\users\\lmuno\\anaconda3\\lib\\site-packages (2.24.0)\n",
      "Requirement already satisfied: certifi>=2017.4.17 in c:\\users\\lmuno\\anaconda3\\lib\\site-packages (from requests) (2020.6.20)\n",
      "Requirement already satisfied: chardet<4,>=3.0.2 in c:\\users\\lmuno\\anaconda3\\lib\\site-packages (from requests) (3.0.4)\n",
      "Requirement already satisfied: urllib3!=1.25.0,!=1.25.1,<1.26,>=1.21.1 in c:\\users\\lmuno\\anaconda3\\lib\\site-packages (from requests) (1.25.9)\n",
      "Requirement already satisfied: idna<3,>=2.5 in c:\\users\\lmuno\\anaconda3\\lib\\site-packages (from requests) (2.10)\n"
     ]
    }
   ],
   "metadata": {}
  },
  {
   "cell_type": "markdown",
   "source": [
    "Utilicemos las instrucciones de prueba [de la página oficinal en github del proyecto](https://github.com/psf/requests):"
   ],
   "metadata": {}
  },
  {
   "cell_type": "code",
   "execution_count": 127,
   "source": [
    "import requests\r\n",
    "\r\n",
    "r = requests.get('https://api.github.com/repos/psf/requests')\r\n",
    "r.json()[\"description\"]"
   ],
   "outputs": [
    {
     "output_type": "execute_result",
     "data": {
      "text/plain": [
       "'A simple, yet elegant HTTP library.'"
      ]
     },
     "metadata": {},
     "execution_count": 127
    }
   ],
   "metadata": {}
  },
  {
   "cell_type": "markdown",
   "source": [
    "Para entender lo que sucede en estas líneas de código, hay que tener una idea del modelo HTTP y en concreto, que cosa es un request:\n",
    "\n",
    "![](https://i1.wp.com/shvetsgroup.com/files/images/HTTP_request.png)\n",
    "\n",
    "El protocolo que hace que la Web funcione es HTTP. En este se define que existen dos nodos: cliente y servidor. El cliente hace un pedido de información (un \"requests\" con una ruta) y el servidor retorna un código de respuesta (un \"response\") así como la información requerida (si la información existe, para lo que responderá con el código 200; en caso contrario responderá con un código 404). En el código anterior, todos los detalles de señalización y flujo de control de información estan resueltos en la librería `requests`.\n",
    "\n",
    "El método `get` es la instrucción HTTP que se utiliza para hacer una petición en un mensaje que es formateado por la librería. En este caso, el requerimiento apunta a un archivo JSON y `requests` puede gestionar archivos JSON de forma nativa con el método `json` sobre la respuesta del requerimiento (el objeto `r`). En este caso, estamos viendo el valor de la llave `description`.\n",
    "\n",
    "Veamos una estructura más compleja: La URL https://deperu.com/api/rest/noticias.json apunta a un servicio que retorna noticias en formato JSON. ¿Cómo podemos obtener un listado de los titulares? Guardemos este información en un archivo JSON para poder verlo en el visualizador:"
   ],
   "metadata": {}
  },
  {
   "cell_type": "code",
   "execution_count": 137,
   "source": [
    "url = \"https://deperu.com/api/rest/noticias.json\"\r\n",
    "r = requests.get(url)\r\n",
    "data = r.json()\r\n",
    "\r\n",
    "with open(\"noticias.json\", mode='w') as json_file:\r\n",
    "    json.dump(data, json_file)"
   ],
   "outputs": [],
   "metadata": {}
  },
  {
   "cell_type": "markdown",
   "source": [
    "Revisando la estructura se observa que es una lista de diccionarios, donde las llaves 'fecha', 'titulo' y 'url' nos dan la información que queremos para presentar la información:"
   ],
   "metadata": {}
  },
  {
   "cell_type": "code",
   "execution_count": 138,
   "source": [
    "with open(\"noticias.json\") as json_file:\r\n",
    "    data_noticias = json.load(json_file)\r\n",
    "    \r\n",
    "print(\"LAS NOTICIAS DE LA HORA\")\r\n",
    "print(\"=======================\\n\")\r\n",
    "for noticia in data_noticias[:5]:           # [:5] => Las cinco noticias mas recientes\r\n",
    "    print(\"  Fecha:\", noticia['fecha'])\r\n",
    "    print(\"  Titular:\", noticia['titulo'])\r\n",
    "    print(\"  Referencia:\", noticia['url'])\r\n",
    "    print()"
   ],
   "outputs": [
    {
     "output_type": "stream",
     "name": "stdout",
     "text": [
      "LAS NOTICIAS DE LA HORA\n",
      "=======================\n",
      "\n",
      "  Fecha: Mon, 20 Jul 2020 17:05:01 -0500\n",
      "  Titular: Acreedores rechazan oferta de Argentina y hacen peligrar el canje de deuda\n",
      "  Referencia: https://www.deperu.com/noticias/acreedores-rechazan-oferta-de-argentina-y-hacen-peligrar-el-canje-de-deuda-105214.html\n",
      "\n",
      "  Fecha: Mon, 20 Jul 2020 16:59:57 -0500\n",
      "  Titular: Los niños negros tienden a morir más que los blancos tras una operación en EEUU\n",
      "  Referencia: https://www.deperu.com/noticias/los-ninos-negros-tienden-a-morir-mas-que-los-blancos-tras-una-operacion-en-eeuu-105213.html\n",
      "\n",
      "  Fecha: Mon, 20 Jul 2020 15:14:03 -0500\n",
      "  Titular: El dólar vuelve al supermercado en Cuba para impulsar la economía\n",
      "  Referencia: https://www.deperu.com/noticias/el-dolar-vuelve-al-supermercado-en-cuba-para-impulsar-la-economia-105209.html\n",
      "\n",
      "  Fecha: Mon, 20 Jul 2020 14:32:33 -0500\n",
      "  Titular: Brasil inicia el martes fase final de pruebas de vacuna china contra el nuevo coronavirus\n",
      "  Referencia: https://www.deperu.com/noticias/brasil-inicia-el-martes-fase-final-de-pruebas-de-vacuna-china-contra-el-nuevo-coronavirus-105211.html\n",
      "\n",
      "  Fecha: Mon, 20 Jul 2020 14:05:46 -0500\n",
      "  Titular: Piden donantes de plasma en Florida cuando escasean tratamientos y se saturan hospitales\n",
      "  Referencia: https://www.deperu.com/noticias/piden-donantes-de-plasma-en-florida-cuando-escasean-tratamientos-y-se-saturan-hospitales-105207.html\n",
      "\n"
     ]
    }
   ],
   "metadata": {}
  },
  {
   "cell_type": "markdown",
   "source": [
    "¡Hemos construido un *newsletter* con muy pocas lineas de código!"
   ],
   "metadata": {}
  },
  {
   "cell_type": "code",
   "execution_count": null,
   "source": [],
   "outputs": [],
   "metadata": {}
  }
 ],
 "metadata": {
  "kernelspec": {
   "display_name": "Python 3 (ipykernel)",
   "language": "python",
   "name": "python3"
  },
  "language_info": {
   "codemirror_mode": {
    "name": "ipython",
    "version": 3
   },
   "file_extension": ".py",
   "mimetype": "text/x-python",
   "name": "python",
   "nbconvert_exporter": "python",
   "pygments_lexer": "ipython3",
   "version": "3.8.11"
  }
 },
 "nbformat": 4,
 "nbformat_minor": 4
}