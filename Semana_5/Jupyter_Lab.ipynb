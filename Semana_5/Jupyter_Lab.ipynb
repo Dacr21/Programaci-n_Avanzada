{
 "cells": [
  {
   "cell_type": "code",
   "execution_count": 1,
   "id": "675c3e1f-3f6a-4013-9336-f7f251c47f0f",
   "metadata": {},
   "outputs": [
    {
     "name": "stdout",
     "output_type": "stream",
     "text": [
      "C:\\Users\\DiegoCR\\Desktop\\2021-02\\Programacion_avanzada_de_computadoras\\Semana_5\n"
     ]
    }
   ],
   "source": [
    "import os\n",
    "\n",
    "HOME = \"C:\\\\Users\\\\DiegoCR\\\\Desktop\\\\2021-02\\\\Programacion_avanzada_de_computadoras\\\\Semana_5\"\n",
    "os.chdir(HOME)\n",
    "print(os.getcwd())"
   ]
  },
  {
   "cell_type": "code",
   "execution_count": 3,
   "id": "3b36c459-e647-47d3-be58-4c4618e2d733",
   "metadata": {},
   "outputs": [],
   "source": [
    "empleados = [[\"6/6/2020 07:20\",\"Elvio Lado\"],\n",
    "            [\"6/6/2020 07:22\" , \"Elmer Curio\"],\n",
    "            [\"6/6/2020 07:30\" , \"Elba Lazo\"],\n",
    "            [\"6/6/2020 07:36\" , \"Susana Oria\"],\n",
    "            [\"6/6/2020 07:49\" , \"Armando Paredes\"]]"
   ]
  },
  {
   "cell_type": "code",
   "execution_count": 5,
   "id": "2b3896fb-8fc4-46f5-b69b-0a51d29ffa87",
   "metadata": {},
   "outputs": [],
   "source": [
    "import csv\n",
    "#newline = \"\" solo se usa en windows\n",
    "#Codigo para la creacion de un archivo .csv\n",
    "with open(\"entrada1.csv\", mode = 'w', newline = \"\") as f:\n",
    "    writer = csv.writer(f, delimiter = \";\")\n",
    "    writer.writerow([\"FECHA_HORA\" , \"EMPLEADO\"])\n",
    "    \n",
    "    for empleado in empleados:\n",
    "        writer.writerow(empleado)"
   ]
  },
  {
   "cell_type": "code",
   "execution_count": 17,
   "id": "7b0e1d44-ea94-4b9a-ad70-5c8c423ce076",
   "metadata": {},
   "outputs": [
    {
     "name": "stdout",
     "output_type": "stream",
     "text": [
      "NOMBRE: Elvio Lado           FECHA Y HORA: 6/6/2020 07:20\n",
      "NOMBRE: Elmer Curio          FECHA Y HORA: 6/6/2020 07:22\n",
      "NOMBRE: Elba Lazo            FECHA Y HORA: 6/6/2020 07:30\n",
      "NOMBRE: Susana Oria          FECHA Y HORA: 6/6/2020 07:36\n",
      "NOMBRE: Armando Paredes      FECHA Y HORA: 6/6/2020 07:49\n"
     ]
    }
   ],
   "source": [
    "#LEER\n",
    "import csv\n",
    "\n",
    "with open(\"entrada1.csv\") as f:\n",
    "    reader = csv.reader(f, delimiter = \";\")\n",
    "    header = next(reader)\n",
    "    \n",
    "    for line in reader:\n",
    "        print(f\"NOMBRE: {line[1]:20} FECHA Y HORA: {line[0]}\" )"
   ]
  },
  {
   "cell_type": "code",
   "execution_count": null,
   "id": "98aa3be8-390e-4922-9837-6f5a64a025a4",
   "metadata": {},
   "outputs": [],
   "source": [
    "import csv\n",
    "# el encoding se usa para poder usar caracteres especiales\n",
    "with open(\"Asistencia_10_9.csv\", encoding = 'utf-8') as f:\n",
    "    reader = csv.reader(f)\n",
    "    header = next(reader)\n",
    "    \n",
    "    for datarow in reader:\n",
    "    #Pasar datos de un csv a una lista para ordenarla\n",
    "        if int(datarow[-1]) > 1 and datarrow[2] != \"Moderador\":\n",
    "            result.append({\"nombre\" : datarow[0], \"joins\" : int(datarrow[-1])})\n",
    "    result.sort(key = lambda x: x['joins'], reverse = True)\n",
    "    \n",
    "    for idx, items in enumerate(result.item(), start = 1):\n",
    "        print(f\"{idx:2}. {items['nombre'] :. < 50} {items['joins']}\")\n",
    "        "
   ]
  },
  {
   "cell_type": "code",
   "execution_count": 20,
   "id": "be3c3ce4-c8e1-4306-b169-21920640b712",
   "metadata": {},
   "outputs": [],
   "source": [
    "#Guardar informacion multidimensional JSON\n",
    "\n",
    "empleados = [{\"ingreso\": \"6/6/2020 07:20\", \"salida\": \"6/6/2020 19:30\", \"nombre\": \"Elvio Lado\"}, \n",
    "              {\"ingreso\": \"6/6/2020 07:22\", \"salida\": \"6/6/2020 18:50\", \"nombre\": \"Elmer Curio\"}, \n",
    "              {\"ingreso\": \"6/6/2020 07:30\", \"salida\": \"6/6/2020 19:10\", \"nombre\": \"Elba Lazo\"}, \n",
    "              {\"ingreso\": \"6/6/2020 07:36\", \"salida\": \"6/6/2020 20:10\", \"nombre\": \"Susana Oria\"}, \n",
    "              {\"ingreso\": \"6/6/2020 07:49\", \"salida\": \"6/6/2020 17:59\", \"nombre\": \"Armando Paredes\"}]\n",
    "\n"
   ]
  },
  {
   "cell_type": "code",
   "execution_count": 22,
   "id": "aac60911-6b0e-49a3-9b93-52f83ae0f186",
   "metadata": {},
   "outputs": [],
   "source": [
    "import json\n",
    "#Escritura\n",
    "\n",
    "with open(\"entrada.json\", mode = 'w') as f:\n",
    "    json.dump(empleados, f)"
   ]
  },
  {
   "cell_type": "code",
   "execution_count": 29,
   "id": "8bd0d6c0-066b-4be6-82a6-f65b2b6f2708",
   "metadata": {},
   "outputs": [
    {
     "name": "stdout",
     "output_type": "stream",
     "text": [
      "[\n",
      "    {\n",
      "        \"ingreso\": \"6/6/2020 07:20\",\n",
      "        \"salida\": \"6/6/2020 19:30\",\n",
      "        \"nombre\": \"Elvio Lado\"\n",
      "    },\n",
      "    {\n",
      "        \"ingreso\": \"6/6/2020 07:22\",\n",
      "        \"salida\": \"6/6/2020 18:50\",\n",
      "        \"nombre\": \"Elmer Curio\"\n",
      "    },\n",
      "    {\n",
      "        \"ingreso\": \"6/6/2020 07:30\",\n",
      "        \"salida\": \"6/6/2020 19:10\",\n",
      "        \"nombre\": \"Elba Lazo\"\n",
      "    },\n",
      "    {\n",
      "        \"ingreso\": \"6/6/2020 07:36\",\n",
      "        \"salida\": \"6/6/2020 20:10\",\n",
      "        \"nombre\": \"Susana Oria\"\n",
      "    },\n",
      "    {\n",
      "        \"ingreso\": \"6/6/2020 07:49\",\n",
      "        \"salida\": \"6/6/2020 17:59\",\n",
      "        \"nombre\": \"Armando Paredes\"\n",
      "    }\n",
      "]\n"
     ]
    }
   ],
   "source": [
    "import json\n",
    "#Lectura\n",
    "\n",
    "with open(\"entrada.json\") as f:\n",
    "    data = json.load(f)\n",
    "\n",
    "print(json.dumps(data, indent = 4))"
   ]
  },
  {
   "cell_type": "code",
   "execution_count": 38,
   "id": "3ae3fcdd-ca11-4bcc-9093-65f534adc4c8",
   "metadata": {},
   "outputs": [
    {
     "name": "stdout",
     "output_type": "stream",
     "text": [
      "Nombre: Elvio Lado           Jornada Laboral: 12:10:00\n",
      "Nombre: Elmer Curio          Jornada Laboral: 11:28:00\n",
      "Nombre: Elba Lazo            Jornada Laboral: 11:40:00\n",
      "Nombre: Susana Oria          Jornada Laboral: 12:34:00\n",
      "Nombre: Armando Paredes      Jornada Laboral: 10:10:00\n"
     ]
    }
   ],
   "source": [
    "from datetime import datetime\n",
    "\n",
    "for item in data:\n",
    "    date_ing = datetime.strptime(item['ingreso'], \"%d/%m/%Y %H:%M\")\n",
    "    date_sal = datetime.strptime(item['salida'], \"%d/%m/%Y %H:%M\")\n",
    "    time_elepsed = date_sal - date_ing\n",
    "    \n",
    "    print(f\"Nombre: {item['nombre']:20} Jornada Laboral: {time_elepsed}\")"
   ]
  },
  {
   "cell_type": "code",
   "execution_count": 1,
   "id": "6dbe318a-8aaa-47ca-ae13-53eefe26f12d",
   "metadata": {},
   "outputs": [
    {
     "data": {
      "text/plain": [
       "'A simple, yet elegant HTTP library.'"
      ]
     },
     "execution_count": 1,
     "metadata": {},
     "output_type": "execute_result"
    }
   ],
   "source": [
    "import requests\n",
    "\n",
    "r = requests.get('https://api.github.com/repos/psf/requests')\n",
    "r.json()['description']"
   ]
  },
  {
   "cell_type": "code",
   "execution_count": 2,
   "id": "f39a6046-d789-49f3-b252-20ff793ab439",
   "metadata": {},
   "outputs": [],
   "source": [
    "import requests\n",
    "import json\n",
    "\n",
    "URL = 'https://deperu.com/api/rest/noticias.json'\n",
    "r = requests.get(URL)\n",
    "data = r.json()\n",
    "\n",
    "with open(\"noticias.json\", mode = 'w', encoding = 'utf-8') as f:\n",
    "    json.dump(data,f)"
   ]
  },
  {
   "cell_type": "code",
   "execution_count": 4,
   "id": "86cff5e3-e223-416d-bf51-619059da28df",
   "metadata": {},
   "outputs": [
    {
     "name": "stdout",
     "output_type": "stream",
     "text": [
      "LAS NOTICIAS DE LA HORA\n",
      "-----------------------\n",
      "\n",
      " Fecha: Fri, 24 Sep 2021 15:54:09 -0500\n",
      " Titular: Refuerzo de Pfizer en vacunados con Coronavac aumentó 20 veces nivel de anticuerpos contra covid\n",
      " Referencia: https://www.deperu.com/noticias/refuerzo-de-pfizer-en-vacunados-con-coronavac-aumento-20-veces-nivel-de-anticuerpos-contra-covid-113300.html\n",
      "\n",
      " Fecha: Fri, 24 Sep 2021 15:32:03 -0500\n",
      " Titular: Las terrazas de La Habana recobran vida después de nueve meses de cierre\n",
      " Referencia: https://www.deperu.com/noticias/las-terrazas-de-la-habana-recobran-vida-despues-de-nueve-meses-de-cierre-113301.html\n",
      "\n",
      " Fecha: Fri, 24 Sep 2021 15:04:50 -0500\n",
      " Titular: Primeros vuelos cancelados por erupción del volcán de las islas Canarias\n",
      " Referencia: https://www.deperu.com/noticias/primeros-vuelos-cancelados-por-erupcion-del-volcan-de-las-islas-canarias-113299.html\n",
      "\n",
      " Fecha: Fri, 24 Sep 2021 13:43:21 -0500\n",
      " Titular: La ONU urge a invertir masivamente en energías limpias y accesibles\n",
      " Referencia: https://www.deperu.com/noticias/la-onu-urge-a-invertir-masivamente-en-energias-limpias-y-accesibles-113297.html\n",
      "\n",
      " Fecha: Fri, 24 Sep 2021 13:07:49 -0500\n",
      " Titular: Cinco bodegas latinoamericanas elegidas entre las 10 mejores del mundo\n",
      " Referencia: https://www.deperu.com/noticias/cinco-bodegas-latinoamericanas-elegidas-entre-las-10-mejores-del-mundo-113296.html\n",
      "\n"
     ]
    }
   ],
   "source": [
    "import requests\n",
    "import json\n",
    "\n",
    "URL = 'https://deperu.com/api/rest/noticias.json'\n",
    "r = requests.get(URL)\n",
    "data = r.json()\n",
    "\n",
    "with open(\"noticias.json\") as f:\n",
    "    data = json.load(f)\n",
    "\n",
    "print(\"LAS NOTICIAS DE LA HORA\")\n",
    "print(\"-----------------------\\n\")\n",
    "for noticia in data[:5]: #-> Los 5 ultimos\n",
    "    print(\" Fecha:\", noticia['fecha'])\n",
    "    print(\" Titular:\", noticia['titulo'])\n",
    "    print(\" Referencia:\", noticia['url'])\n",
    "    print()"
   ]
  }
 ],
 "metadata": {
  "kernelspec": {
   "display_name": "Python 3 (ipykernel)",
   "language": "python",
   "name": "python3"
  },
  "language_info": {
   "codemirror_mode": {
    "name": "ipython",
    "version": 3
   },
   "file_extension": ".py",
   "mimetype": "text/x-python",
   "name": "python",
   "nbconvert_exporter": "python",
   "pygments_lexer": "ipython3",
   "version": "3.8.11"
  }
 },
 "nbformat": 4,
 "nbformat_minor": 5
}
