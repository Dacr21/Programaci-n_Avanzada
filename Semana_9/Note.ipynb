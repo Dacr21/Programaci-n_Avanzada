{
 "cells": [
  {
   "cell_type": "code",
   "execution_count": null,
   "id": "0030d91e-5ee2-4669-aacd-8b016d54c622",
   "metadata": {},
   "outputs": [],
   "source": [
    "import pandas as pd"
   ]
  },
  {
   "cell_type": "markdown",
   "id": "283f5099-3aad-4290-83ae-392e00acd582",
   "metadata": {},
   "source": [
    "## Series"
   ]
  },
  {
   "cell_type": "code",
   "execution_count": null,
   "id": "2e043e62-7649-4fb5-baf5-4cf18f5f457a",
   "metadata": {},
   "outputs": [],
   "source": [
    "data = pd.Series([\"Data1\",\"Data2\",\"Data3\"])\n",
    "print(type(data))\n",
    "print(data)\n",
    "#Una serie es una coleccion de datos con idices variables"
   ]
  },
  {
   "cell_type": "code",
   "execution_count": null,
   "id": "4b2055b5-9684-43ab-bad5-2c857f67001c",
   "metadata": {},
   "outputs": [],
   "source": [
    "data.index = ['A','B','C']\n",
    "print(data)\n",
    "#Se puede cambiar las etiquetas"
   ]
  },
  {
   "cell_type": "code",
   "execution_count": null,
   "id": "e686442b-648d-41f2-b399-d9f8d6c93856",
   "metadata": {},
   "outputs": [],
   "source": [
    "data[0]"
   ]
  },
  {
   "cell_type": "code",
   "execution_count": null,
   "id": "4e62e8be-f8da-4083-9896-b85b1b135a2d",
   "metadata": {},
   "outputs": [],
   "source": [
    "data['A']"
   ]
  },
  {
   "cell_type": "code",
   "execution_count": null,
   "id": "b2fef86d-bece-463d-8ba7-fa989b176590",
   "metadata": {},
   "outputs": [],
   "source": [
    "data.at['B']\n",
    "#at se usa para traer datos por su indice y no por su posicion\n",
    "#aparte es mas rapido para el analisis de database"
   ]
  },
  {
   "cell_type": "code",
   "execution_count": null,
   "id": "e349c712-ae77-4292-af46-c74bd323e427",
   "metadata": {},
   "outputs": [],
   "source": [
    "data.at[1]       #ERROR"
   ]
  },
  {
   "cell_type": "code",
   "execution_count": null,
   "id": "d641da7e-50ad-4e3c-ad19-45b4bbed92c9",
   "metadata": {},
   "outputs": [],
   "source": [
    "data = pd.Series(data=['Audi','Lotus','Bigatti','Porsche'],\n",
    "                index=['D1','D2','D3','D4'],\n",
    "                name='Autos')"
   ]
  },
  {
   "cell_type": "code",
   "execution_count": null,
   "id": "5e52f118-b3c4-477c-8f23-f3abaeaa448f",
   "metadata": {},
   "outputs": [],
   "source": [
    "print(data)"
   ]
  },
  {
   "cell_type": "code",
   "execution_count": null,
   "id": "e75e0308-484a-4ff3-abb5-a201da3404f0",
   "metadata": {},
   "outputs": [],
   "source": [
    "data\n",
    "#Jupyter lab puede mostrar un dato con solo poner el nombre"
   ]
  },
  {
   "cell_type": "code",
   "execution_count": null,
   "id": "7848d74f-e1e2-4a3e-bf7c-0f241213c040",
   "metadata": {},
   "outputs": [],
   "source": [
    "print(data.index)\n",
    "print(data.values) #data.data\n",
    "print(data.name)"
   ]
  },
  {
   "cell_type": "code",
   "execution_count": null,
   "id": "b5f45793-bf6d-467b-ac85-cd2225d7217f",
   "metadata": {},
   "outputs": [],
   "source": [
    "data.sort_values()\n",
    "#Ordena de manera alfabetica\n",
    "#Los index estan unidos a un valor\n",
    "#Como se ve en la ejecucion, ya que D3 cambio su orden"
   ]
  },
  {
   "cell_type": "code",
   "execution_count": null,
   "id": "c2a3019a-3ae9-4304-a100-307f3c23e9ad",
   "metadata": {},
   "outputs": [],
   "source": [
    "for item in data:\n",
    "    print(item)\n",
    "# Para pandas los datos clave son los valores y no los indices\n",
    "# Esto lo diferencia a un diccionario"
   ]
  },
  {
   "cell_type": "code",
   "execution_count": null,
   "id": "5f70f456-ac36-46b2-97d4-1700d0663aef",
   "metadata": {},
   "outputs": [],
   "source": [
    "data\n",
    "#sort_values no cambia la data original"
   ]
  },
  {
   "cell_type": "code",
   "execution_count": null,
   "id": "39dd57b1-e5c9-44ad-a801-b76f7e8b812a",
   "metadata": {},
   "outputs": [],
   "source": [
    "data.sort_values(inplace=True)\n",
    "#Este si cambia la data original"
   ]
  },
  {
   "cell_type": "code",
   "execution_count": null,
   "id": "06448af0-5f12-4f41-8b64-bd6437048067",
   "metadata": {},
   "outputs": [],
   "source": [
    "data"
   ]
  },
  {
   "cell_type": "code",
   "execution_count": null,
   "id": "fb778785-22da-42f9-8d95-a51cb4e27413",
   "metadata": {},
   "outputs": [],
   "source": [
    "print(data[::-1])\n",
    "#Los controles normales de idx funcionan en python\n",
    "#Aunque esta manera no es muy formal\n",
    "#Ya que se puede confundir con un arreglo"
   ]
  },
  {
   "cell_type": "code",
   "execution_count": null,
   "id": "437f74a2-c020-4709-bd78-6354a50d6063",
   "metadata": {},
   "outputs": [],
   "source": [
    "data = pd.Series(data=['Audi','Lotus','Bigatti','Porsche'],\n",
    "                index=['D1','D2','D3','D4'],\n",
    "                name='Autos')\n",
    "data"
   ]
  },
  {
   "cell_type": "code",
   "execution_count": null,
   "id": "b8a0e336-edcc-4216-9388-64c1e7a0579f",
   "metadata": {},
   "outputs": [],
   "source": [
    "data.loc['D2']\n",
    "#Busqueda por idx\n",
    "#Version formal"
   ]
  },
  {
   "cell_type": "code",
   "execution_count": null,
   "id": "481f531c-9165-48e3-9510-cabc7a8968a2",
   "metadata": {},
   "outputs": [],
   "source": [
    "data.iloc[1]\n",
    "#Busqueda por posicion"
   ]
  },
  {
   "cell_type": "code",
   "execution_count": null,
   "id": "e8f1470f-e434-4491-b49c-2cf18573932a",
   "metadata": {},
   "outputs": [],
   "source": [
    "data.loc['D1'::2]\n",
    "#Busqueda de datos desde D1 hasta el final, de 2 en 2"
   ]
  },
  {
   "cell_type": "code",
   "execution_count": null,
   "id": "d21c27a0-0e82-4ae8-b554-e64e15674c7a",
   "metadata": {},
   "outputs": [],
   "source": [
    "data.iloc[1::2]\n",
    "#Busqueda de datos desde el dato en la posicion 1\n",
    "#Hasta el dato final, de 2 en 2"
   ]
  },
  {
   "cell_type": "markdown",
   "id": "0cc35233-97a6-4897-bdd0-9c3890587eef",
   "metadata": {},
   "source": [
    "## Operaciones matematicas"
   ]
  },
  {
   "cell_type": "code",
   "execution_count": null,
   "id": "cec6dd80-ef46-4297-aa36-72c8d970b6a0",
   "metadata": {},
   "outputs": [],
   "source": [
    "data = pd.Series([1,2,3])"
   ]
  },
  {
   "cell_type": "code",
   "execution_count": null,
   "id": "833f7c6a-7ac5-4dd4-9a6b-dd834941a057",
   "metadata": {},
   "outputs": [],
   "source": [
    "data"
   ]
  },
  {
   "cell_type": "code",
   "execution_count": null,
   "id": "7a350879-8ee0-4c13-82c9-f8d81d651685",
   "metadata": {},
   "outputs": [],
   "source": [
    "data * 2"
   ]
  },
  {
   "cell_type": "code",
   "execution_count": null,
   "id": "2e1e390b-882a-4019-bd33-095a420609fc",
   "metadata": {},
   "outputs": [],
   "source": [
    "data + data"
   ]
  },
  {
   "cell_type": "code",
   "execution_count": null,
   "id": "c5c0fe8f-dc9a-42ce-9aa8-06aba8469c4b",
   "metadata": {},
   "outputs": [],
   "source": [
    "data = pd.Series(['A','B','C'])\n",
    "data + '0'\n",
    "#El '+' sirve para concatenar"
   ]
  },
  {
   "cell_type": "code",
   "execution_count": null,
   "id": "10007db4-a01e-4139-8a78-fdd1f2cfe028",
   "metadata": {},
   "outputs": [],
   "source": [
    "data = pd.Series([1,3,5,12,23,54,7,33])\n",
    "data"
   ]
  },
  {
   "cell_type": "code",
   "execution_count": null,
   "id": "35ab25ab-1a97-44db-9087-dfc3cc8f1295",
   "metadata": {},
   "outputs": [],
   "source": [
    "data % 2 ==0\n",
    "#Se puede usar operaciones booleanas"
   ]
  },
  {
   "cell_type": "code",
   "execution_count": null,
   "id": "43a0e024-50e6-4dea-85b7-178aa0859f1a",
   "metadata": {},
   "outputs": [],
   "source": [
    "data[data % 2 ==0]\n",
    "#Filtra la lista"
   ]
  },
  {
   "cell_type": "code",
   "execution_count": null,
   "id": "23b74409-9d55-4490-bbc3-c416ff641db1",
   "metadata": {},
   "outputs": [],
   "source": [
    "data = pd.Series([80,76,66],\n",
    "                index=[\"Elvio\",\"Dina\",\"Elmer\"])\n",
    "data"
   ]
  },
  {
   "cell_type": "code",
   "execution_count": null,
   "id": "4ea2f3d9-b259-4bc6-87ce-9cb791a1744f",
   "metadata": {},
   "outputs": [],
   "source": [
    "data.sort_index()\n",
    "#ordena por idx"
   ]
  },
  {
   "cell_type": "code",
   "execution_count": null,
   "id": "ad577fe3-0825-49bb-a758-10e5ff6da271",
   "metadata": {},
   "outputs": [],
   "source": [
    "data.rename({'Dina': 'Dina Mita',\n",
    "           'Elvio' : 'Elvio Lado',\n",
    "           'Elmer' : 'Elmer Curio'})\n",
    "#Cambia los indx de la data"
   ]
  },
  {
   "cell_type": "code",
   "execution_count": null,
   "id": "80128b44-59fc-4a17-badb-eaf06fc947b2",
   "metadata": {},
   "outputs": [],
   "source": [
    "data.rename(lambda x: \"Dr. \" + x)\n",
    "#Se le pueden usar funciones"
   ]
  },
  {
   "cell_type": "code",
   "execution_count": null,
   "id": "e8eb5499-dc43-48fe-a747-42ab3f02b234",
   "metadata": {},
   "outputs": [],
   "source": [
    "import numpy as np\n",
    "\n",
    "data = pd.Series([1,10,np.nan,12,22,np.nan])\n",
    "data"
   ]
  },
  {
   "cell_type": "code",
   "execution_count": null,
   "id": "6837fbee-fff9-4ebd-835f-1947a7a646b0",
   "metadata": {},
   "outputs": [],
   "source": [
    "#Devuelve True si en la lista coincide el dato\n",
    "any(data.isna())# Busca si hay NaN"
   ]
  },
  {
   "cell_type": "code",
   "execution_count": null,
   "id": "3eda630e-58c7-4d07-9734-73642cc20953",
   "metadata": {},
   "outputs": [],
   "source": [
    "data.dropna()\n",
    "#Elimina los NaN"
   ]
  },
  {
   "cell_type": "code",
   "execution_count": null,
   "id": "f64f82cf-c6df-4b79-a662-9dc653a4a2d7",
   "metadata": {},
   "outputs": [],
   "source": [
    "data.fillna(0)\n",
    "#Rellena los NaN por un valor"
   ]
  },
  {
   "cell_type": "code",
   "execution_count": null,
   "id": "5464beb0-0126-402a-be82-a403b07f65c5",
   "metadata": {},
   "outputs": [],
   "source": [
    "dir(pd.Series)"
   ]
  },
  {
   "cell_type": "code",
   "execution_count": null,
   "id": "47054253-4d7a-423b-a99f-df7f25ca5ad7",
   "metadata": {},
   "outputs": [],
   "source": [
    "data = pd.Series([1,10,np.nan,12,22,np.nan])\n",
    "data"
   ]
  },
  {
   "cell_type": "code",
   "execution_count": null,
   "id": "5dc5c265-37dc-44a2-ba58-960f3bbfe749",
   "metadata": {},
   "outputs": [],
   "source": [
    "len(data)"
   ]
  },
  {
   "cell_type": "code",
   "execution_count": null,
   "id": "babf7955-0c32-40c5-b198-43a83213a043",
   "metadata": {},
   "outputs": [],
   "source": [
    "data.size\n",
    "#No concidera los NaN"
   ]
  },
  {
   "cell_type": "code",
   "execution_count": null,
   "id": "cf6673ce-6302-42bf-8ec7-464939f3d3ac",
   "metadata": {},
   "outputs": [],
   "source": [
    "sum(data)\n",
    "#Se recomienda usar los metodos de Pandas para Pandas y no los de Python"
   ]
  },
  {
   "cell_type": "code",
   "execution_count": null,
   "id": "441a75d3-2e62-49e6-9674-fce79eb35ed8",
   "metadata": {},
   "outputs": [],
   "source": [
    "data.sum()\n",
    "#No concidera los NaN"
   ]
  },
  {
   "cell_type": "code",
   "execution_count": null,
   "id": "32a725b2-1b53-4fdf-9b3f-6d61c227d687",
   "metadata": {},
   "outputs": [],
   "source": [
    "data = pd.Series([30,13,16,20,39,22,16,17])\n",
    "data"
   ]
  },
  {
   "cell_type": "code",
   "execution_count": null,
   "id": "f62d7db3-d98a-439f-84de-1123dc8d6eb0",
   "metadata": {},
   "outputs": [],
   "source": [
    "print(\"Numero de elementos: \", data.count()) # No cuenta los NaN\n",
    "print(\"Suma de los elementos: \", data.sum())\n",
    "print(\"Promedio de los elementos: \", data.mean())\n",
    "print(\"Valor medio de los elementos: \", data.median())\n",
    "print(\"Valor minimo: \", data.min())\n",
    "print(\"Valor maximo: \", data.max())\n",
    "print(\"Indice valor minimo: \", data.argmin())\n",
    "print(\"Indice valor maximo: \", data.argmax())"
   ]
  },
  {
   "cell_type": "code",
   "execution_count": null,
   "id": "57beb432-dc0f-4478-81d7-c67b0ad22c99",
   "metadata": {},
   "outputs": [],
   "source": [
    "data.apply(lambda x: float(x))\n",
    "#Aplica una funcion a las variables"
   ]
  },
  {
   "cell_type": "markdown",
   "id": "31abaa4c-40f0-44e1-9e8c-e1b347441142",
   "metadata": {},
   "source": [
    "## Ejemplo de aplicacion"
   ]
  },
  {
   "cell_type": "code",
   "execution_count": null,
   "id": "6169ef4e-4fda-475d-8fd1-23cdbb091a31",
   "metadata": {},
   "outputs": [],
   "source": [
    "import numpy as np\n",
    "import pandas as pd\n",
    "\n",
    "data_tiempos = np.random.uniform(9.5, 12.9, (12,10))\n",
    "data = np.mean(data_tiempos, axis=1)"
   ]
  },
  {
   "cell_type": "code",
   "execution_count": null,
   "id": "35c6003e-c3cc-4275-9e0a-8fa9108ac241",
   "metadata": {},
   "outputs": [],
   "source": [
    "tiempos = pd.Series(data=data)\n",
    "tiempos"
   ]
  },
  {
   "cell_type": "code",
   "execution_count": null,
   "id": "a1f5ca05-eb59-440d-b5f1-e62f48ccb330",
   "metadata": {},
   "outputs": [],
   "source": [
    "tiempos.rename(lambda x: 'Atleta' + str(x), inplace=True)\n",
    "tiempos"
   ]
  },
  {
   "cell_type": "code",
   "execution_count": null,
   "id": "f4f6bb18-dcad-47e1-849b-ba7fbc4d6755",
   "metadata": {},
   "outputs": [],
   "source": [
    "tiempos.sort_values().iloc[:3]"
   ]
  },
  {
   "cell_type": "markdown",
   "id": "ed70dea4-27f6-41be-8366-8d9ecafd3338",
   "metadata": {},
   "source": [
    "## DataFrame"
   ]
  },
  {
   "cell_type": "code",
   "execution_count": null,
   "id": "97d228b8-8186-4ef3-8264-e8176b1837d7",
   "metadata": {},
   "outputs": [],
   "source": [
    "df = pd.DataFrame(['A','B','C'])\n",
    "df"
   ]
  },
  {
   "cell_type": "code",
   "execution_count": null,
   "id": "2942d54e-5840-43fc-8075-8beceed6a33e",
   "metadata": {},
   "outputs": [],
   "source": []
  },
  {
   "cell_type": "code",
   "execution_count": null,
   "id": "83955cf3-8fb8-4e4d-b90e-d8636e1debc3",
   "metadata": {},
   "outputs": [],
   "source": []
  },
  {
   "cell_type": "markdown",
   "id": "35ea83d9-412a-4330-98fb-f77831f393df",
   "metadata": {},
   "source": [
    "## Aplicaciones"
   ]
  },
  {
   "cell_type": "code",
   "execution_count": null,
   "id": "53f4347f-37ec-4131-b57a-e2874aa2a9ed",
   "metadata": {},
   "outputs": [],
   "source": []
  }
 ],
 "metadata": {
  "kernelspec": {
   "display_name": "Python 3 (ipykernel)",
   "language": "python",
   "name": "python3"
  },
  "language_info": {
   "codemirror_mode": {
    "name": "ipython",
    "version": 3
   },
   "file_extension": ".py",
   "mimetype": "text/x-python",
   "name": "python",
   "nbconvert_exporter": "python",
   "pygments_lexer": "ipython3",
   "version": "3.8.11"
  }
 },
 "nbformat": 4,
 "nbformat_minor": 5
}
